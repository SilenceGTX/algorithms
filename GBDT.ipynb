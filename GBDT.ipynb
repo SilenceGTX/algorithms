{
 "cells": [
  {
   "cell_type": "code",
   "execution_count": 1,
   "metadata": {},
   "outputs": [],
   "source": [
    "import math\n",
    "import numpy as np\n",
    "import pandas as pd\n",
    "\n",
    "from sklearn.ensemble import gradient_boosting\n",
    "from sklearn.tree import plot_tree"
   ]
  },
  {
   "cell_type": "markdown",
   "metadata": {},
   "source": [
    "# Classification"
   ]
  },
  {
   "cell_type": "markdown",
   "metadata": {},
   "source": [
    "## Dataset"
   ]
  },
  {
   "cell_type": "code",
   "execution_count": 2,
   "metadata": {},
   "outputs": [],
   "source": [
    "df = pd.DataFrame({\"x\":[1, 2, 3, 4, 5, 6, 7, 8, 9, 10], \n",
    "                   \"y\":[0, 0, 0, 1, 1, 0, 0, 0, 1, 1]})"
   ]
  },
  {
   "cell_type": "markdown",
   "metadata": {},
   "source": [
    "## Helper functions"
   ]
  },
  {
   "cell_type": "code",
   "execution_count": 3,
   "metadata": {},
   "outputs": [],
   "source": [
    "def init_cls(df):\n",
    "    \"\"\"\n",
    "    Initialize a classification tree with F0(x)\n",
    "    \n",
    "    Args:\n",
    "        df (DataFrame): The input DataFrame    \n",
    "    \n",
    "    Returns:\n",
    "        tree (DataFrame): The output DataFrame \n",
    "    \"\"\"\n",
    "    f_0 = math.log((df[\"y\"] == 1).sum() / (df[\"y\"] == 0).sum()) # ln(p/1-p)\n",
    "    \n",
    "    tree = df.copy()\n",
    "    tree[\"f0\"] = f_0\n",
    "    return tree"
   ]
  },
  {
   "cell_type": "code",
   "execution_count": 4,
   "metadata": {},
   "outputs": [],
   "source": [
    "def calc_res_cls(df, f_col_name):\n",
    "    \"\"\"\n",
    "    Convert F(x) to proba & calculate pseudo-residual\n",
    "    \n",
    "    Args:\n",
    "        df (DataFrame): The input DataFrame\n",
    "        f_col_name (str): A column of F(x)\n",
    "        \n",
    "    Returns:\n",
    "        df (DataFrame): The output DataFrame with calculated results\n",
    "    \"\"\"\n",
    "    df[\"%s_proba\"%f_col_name] = 1 / (1 + np.exp(-1 * df[f_col_name])) # F(x) -> proba\n",
    "    df[\"res_%s\"%f_col_name] = df[\"y\"] - df[\"%s_proba\"%f_col_name] # y - F(x)\n",
    "    return df"
   ]
  },
  {
   "cell_type": "code",
   "execution_count": 5,
   "metadata": {},
   "outputs": [],
   "source": [
    "def split_cls(df, feat_col, thres_ls, res_col):\n",
    "    \"\"\"\n",
    "    Calculate Square Error to select the best split point\n",
    "    \n",
    "    Args:\n",
    "        df (DataFrame): The input DataFrame\n",
    "        feat_col (str): The feature column to split\n",
    "        thres_ls (list): A list of split points\n",
    "        res_col (str): A column of pseudo-residual\n",
    "        \n",
    "    Returns:\n",
    "        split_thres (float): The split point\n",
    "        left_mse (float): The MSE of all left nodes\n",
    "        right_mse (float): The MSE of all right nodes\n",
    "    \"\"\"\n",
    "    sp = []\n",
    "    se_ls = []\n",
    "    l_mse_ls = []\n",
    "    r_mse_ls = []\n",
    "    \n",
    "    for thres in thres_ls:\n",
    "        left = df[df[feat_col] <= thres]\n",
    "        right = df[df[feat_col] > thres]\n",
    "\n",
    "        left_se = (left[res_col] - left[res_col].mean()) ** 2\n",
    "        right_se = (right[res_col] - right[res_col].mean()) ** 2\n",
    "\n",
    "        se_sum = np.sum(left_se) + np.sum(right_se)\n",
    "        \n",
    "        sp.append(thres)\n",
    "        se_ls.append(se_sum)\n",
    "        l_mse_ls.append(np.mean(left_se))\n",
    "        r_mse_ls.append(np.mean(right_se))\n",
    "        \n",
    "    sp_arr = np.array([sp, se_ls, l_mse_ls, r_mse_ls])\n",
    "    split_thres = sp[np.argmin(sp_arr[1])] # split threshold\n",
    "    left_mse = l_mse_ls[np.argmin(sp_arr[1])] # left nodes MSE\n",
    "    right_mse = r_mse_ls[np.argmin(sp_arr[1])] # right nodes MSE\n",
    "    return split_thres, left_mse, right_mse"
   ]
  },
  {
   "cell_type": "code",
   "execution_count": 6,
   "metadata": {},
   "outputs": [],
   "source": [
    "def leaf_val_cls(df, feat_col, res_col, thres):\n",
    "    \"\"\"\n",
    "    Calculate leaf node value\n",
    "    \n",
    "    Args:\n",
    "        df (DataFrame): The input DataFrame\n",
    "        feat_col (str): The feature column to split\n",
    "        res_col (str): A column of pseudo-residual\n",
    "        thres (float): The split point\n",
    "    \n",
    "    Returns:\n",
    "        left_leaf_value (flaot): Left leaf node values\n",
    "        right_leaf_value (flaot): Right leaf node values\n",
    "    \"\"\"\n",
    "    left_numerator  = df[df[feat_col] <= thres][res_col].sum()\n",
    "    left_denominator = (df[df[feat_col] <= thres].apply(\n",
    "        lambda r: (r[\"y\"] - r[res_col]) * (1 - r[\"y\"] + r[res_col]), axis=1)).sum()\n",
    "    \n",
    "    right_numerator  = df[df[feat_col] > thres][res_col].sum()\n",
    "    right_denominator = (df[df[feat_col] > thres].apply(\n",
    "        lambda r: (r[\"y\"] - r[res_col]) * (1 - r[\"y\"] + r[res_col]), axis=1)).sum()\n",
    "    \n",
    "    left_leaf_value = left_numerator / left_denominator\n",
    "    right_leaf_value = right_numerator / right_denominator\n",
    "    \n",
    "    return left_leaf_value, right_leaf_value"
   ]
  },
  {
   "cell_type": "markdown",
   "metadata": {},
   "source": [
    "## Here we go"
   ]
  },
  {
   "cell_type": "markdown",
   "metadata": {},
   "source": [
    "### 1. Initialization"
   ]
  },
  {
   "cell_type": "code",
   "execution_count": 7,
   "metadata": {},
   "outputs": [
    {
     "data": {
      "text/html": [
       "<div>\n",
       "<style scoped>\n",
       "    .dataframe tbody tr th:only-of-type {\n",
       "        vertical-align: middle;\n",
       "    }\n",
       "\n",
       "    .dataframe tbody tr th {\n",
       "        vertical-align: top;\n",
       "    }\n",
       "\n",
       "    .dataframe thead th {\n",
       "        text-align: right;\n",
       "    }\n",
       "</style>\n",
       "<table border=\"1\" class=\"dataframe\">\n",
       "  <thead>\n",
       "    <tr style=\"text-align: right;\">\n",
       "      <th></th>\n",
       "      <th>x</th>\n",
       "      <th>y</th>\n",
       "      <th>f0</th>\n",
       "    </tr>\n",
       "  </thead>\n",
       "  <tbody>\n",
       "    <tr>\n",
       "      <td>0</td>\n",
       "      <td>1</td>\n",
       "      <td>0</td>\n",
       "      <td>-0.405465</td>\n",
       "    </tr>\n",
       "    <tr>\n",
       "      <td>1</td>\n",
       "      <td>2</td>\n",
       "      <td>0</td>\n",
       "      <td>-0.405465</td>\n",
       "    </tr>\n",
       "    <tr>\n",
       "      <td>2</td>\n",
       "      <td>3</td>\n",
       "      <td>0</td>\n",
       "      <td>-0.405465</td>\n",
       "    </tr>\n",
       "    <tr>\n",
       "      <td>3</td>\n",
       "      <td>4</td>\n",
       "      <td>1</td>\n",
       "      <td>-0.405465</td>\n",
       "    </tr>\n",
       "    <tr>\n",
       "      <td>4</td>\n",
       "      <td>5</td>\n",
       "      <td>1</td>\n",
       "      <td>-0.405465</td>\n",
       "    </tr>\n",
       "    <tr>\n",
       "      <td>5</td>\n",
       "      <td>6</td>\n",
       "      <td>0</td>\n",
       "      <td>-0.405465</td>\n",
       "    </tr>\n",
       "    <tr>\n",
       "      <td>6</td>\n",
       "      <td>7</td>\n",
       "      <td>0</td>\n",
       "      <td>-0.405465</td>\n",
       "    </tr>\n",
       "    <tr>\n",
       "      <td>7</td>\n",
       "      <td>8</td>\n",
       "      <td>0</td>\n",
       "      <td>-0.405465</td>\n",
       "    </tr>\n",
       "    <tr>\n",
       "      <td>8</td>\n",
       "      <td>9</td>\n",
       "      <td>1</td>\n",
       "      <td>-0.405465</td>\n",
       "    </tr>\n",
       "    <tr>\n",
       "      <td>9</td>\n",
       "      <td>10</td>\n",
       "      <td>1</td>\n",
       "      <td>-0.405465</td>\n",
       "    </tr>\n",
       "  </tbody>\n",
       "</table>\n",
       "</div>"
      ],
      "text/plain": [
       "    x  y        f0\n",
       "0   1  0 -0.405465\n",
       "1   2  0 -0.405465\n",
       "2   3  0 -0.405465\n",
       "3   4  1 -0.405465\n",
       "4   5  1 -0.405465\n",
       "5   6  0 -0.405465\n",
       "6   7  0 -0.405465\n",
       "7   8  0 -0.405465\n",
       "8   9  1 -0.405465\n",
       "9  10  1 -0.405465"
      ]
     },
     "execution_count": 7,
     "metadata": {},
     "output_type": "execute_result"
    }
   ],
   "source": [
    "tree = init_cls(df)\n",
    "tree"
   ]
  },
  {
   "cell_type": "markdown",
   "metadata": {},
   "source": [
    "### 2. Calc proba & pseudo-residual"
   ]
  },
  {
   "cell_type": "code",
   "execution_count": 8,
   "metadata": {},
   "outputs": [
    {
     "data": {
      "text/html": [
       "<div>\n",
       "<style scoped>\n",
       "    .dataframe tbody tr th:only-of-type {\n",
       "        vertical-align: middle;\n",
       "    }\n",
       "\n",
       "    .dataframe tbody tr th {\n",
       "        vertical-align: top;\n",
       "    }\n",
       "\n",
       "    .dataframe thead th {\n",
       "        text-align: right;\n",
       "    }\n",
       "</style>\n",
       "<table border=\"1\" class=\"dataframe\">\n",
       "  <thead>\n",
       "    <tr style=\"text-align: right;\">\n",
       "      <th></th>\n",
       "      <th>x</th>\n",
       "      <th>y</th>\n",
       "      <th>f0</th>\n",
       "      <th>f0_proba</th>\n",
       "      <th>res_f0</th>\n",
       "    </tr>\n",
       "  </thead>\n",
       "  <tbody>\n",
       "    <tr>\n",
       "      <td>0</td>\n",
       "      <td>1</td>\n",
       "      <td>0</td>\n",
       "      <td>-0.405465</td>\n",
       "      <td>0.4</td>\n",
       "      <td>-0.4</td>\n",
       "    </tr>\n",
       "    <tr>\n",
       "      <td>1</td>\n",
       "      <td>2</td>\n",
       "      <td>0</td>\n",
       "      <td>-0.405465</td>\n",
       "      <td>0.4</td>\n",
       "      <td>-0.4</td>\n",
       "    </tr>\n",
       "    <tr>\n",
       "      <td>2</td>\n",
       "      <td>3</td>\n",
       "      <td>0</td>\n",
       "      <td>-0.405465</td>\n",
       "      <td>0.4</td>\n",
       "      <td>-0.4</td>\n",
       "    </tr>\n",
       "    <tr>\n",
       "      <td>3</td>\n",
       "      <td>4</td>\n",
       "      <td>1</td>\n",
       "      <td>-0.405465</td>\n",
       "      <td>0.4</td>\n",
       "      <td>0.6</td>\n",
       "    </tr>\n",
       "    <tr>\n",
       "      <td>4</td>\n",
       "      <td>5</td>\n",
       "      <td>1</td>\n",
       "      <td>-0.405465</td>\n",
       "      <td>0.4</td>\n",
       "      <td>0.6</td>\n",
       "    </tr>\n",
       "    <tr>\n",
       "      <td>5</td>\n",
       "      <td>6</td>\n",
       "      <td>0</td>\n",
       "      <td>-0.405465</td>\n",
       "      <td>0.4</td>\n",
       "      <td>-0.4</td>\n",
       "    </tr>\n",
       "    <tr>\n",
       "      <td>6</td>\n",
       "      <td>7</td>\n",
       "      <td>0</td>\n",
       "      <td>-0.405465</td>\n",
       "      <td>0.4</td>\n",
       "      <td>-0.4</td>\n",
       "    </tr>\n",
       "    <tr>\n",
       "      <td>7</td>\n",
       "      <td>8</td>\n",
       "      <td>0</td>\n",
       "      <td>-0.405465</td>\n",
       "      <td>0.4</td>\n",
       "      <td>-0.4</td>\n",
       "    </tr>\n",
       "    <tr>\n",
       "      <td>8</td>\n",
       "      <td>9</td>\n",
       "      <td>1</td>\n",
       "      <td>-0.405465</td>\n",
       "      <td>0.4</td>\n",
       "      <td>0.6</td>\n",
       "    </tr>\n",
       "    <tr>\n",
       "      <td>9</td>\n",
       "      <td>10</td>\n",
       "      <td>1</td>\n",
       "      <td>-0.405465</td>\n",
       "      <td>0.4</td>\n",
       "      <td>0.6</td>\n",
       "    </tr>\n",
       "  </tbody>\n",
       "</table>\n",
       "</div>"
      ],
      "text/plain": [
       "    x  y        f0  f0_proba  res_f0\n",
       "0   1  0 -0.405465       0.4    -0.4\n",
       "1   2  0 -0.405465       0.4    -0.4\n",
       "2   3  0 -0.405465       0.4    -0.4\n",
       "3   4  1 -0.405465       0.4     0.6\n",
       "4   5  1 -0.405465       0.4     0.6\n",
       "5   6  0 -0.405465       0.4    -0.4\n",
       "6   7  0 -0.405465       0.4    -0.4\n",
       "7   8  0 -0.405465       0.4    -0.4\n",
       "8   9  1 -0.405465       0.4     0.6\n",
       "9  10  1 -0.405465       0.4     0.6"
      ]
     },
     "execution_count": 8,
     "metadata": {},
     "output_type": "execute_result"
    }
   ],
   "source": [
    "tree = calc_res_cls(tree, \"f0\")\n",
    "tree"
   ]
  },
  {
   "cell_type": "markdown",
   "metadata": {},
   "source": [
    "### 3. Find the split point"
   ]
  },
  {
   "cell_type": "code",
   "execution_count": 9,
   "metadata": {},
   "outputs": [
    {
     "name": "stdout",
     "output_type": "stream",
     "text": [
      "The split point is: 8.5\n",
      "After split, the MSE of pseudo-residual on left: 0.1875\n",
      "After split, the MSE of pseudo-residual on right: 0.0\n"
     ]
    }
   ],
   "source": [
    "thres, left_mse, right_mse = split_cls(tree, \"x\", np.arange(0.5, 11.5, 1), \"res_f0\")\n",
    "print(\"The split point is:\", thres)\n",
    "print(\"After split, the MSE of pseudo-residual on left:\", left_mse)\n",
    "print(\"After split, the MSE of pseudo-residual on right:\", right_mse)"
   ]
  },
  {
   "cell_type": "markdown",
   "metadata": {},
   "source": [
    "### 4. Calc leaf node values"
   ]
  },
  {
   "cell_type": "code",
   "execution_count": 10,
   "metadata": {},
   "outputs": [
    {
     "name": "stdout",
     "output_type": "stream",
     "text": [
      "Left value: -0.6250000000000001\n",
      "Right value: 2.5\n"
     ]
    }
   ],
   "source": [
    "left_value, right_value = leaf_val_cls(tree, \"x\", \"res_f0\", thres)\n",
    "print(\"Left value:\", left_value)\n",
    "print(\"Right value:\", right_value)"
   ]
  },
  {
   "cell_type": "markdown",
   "metadata": {},
   "source": [
    "### 5. Update F(x)"
   ]
  },
  {
   "cell_type": "markdown",
   "metadata": {},
   "source": [
    "```F1(x) = F0(x) + lr * f1(x)```"
   ]
  },
  {
   "cell_type": "code",
   "execution_count": 11,
   "metadata": {},
   "outputs": [],
   "source": [
    "lr = 0.1 # learning rate"
   ]
  },
  {
   "cell_type": "code",
   "execution_count": 12,
   "metadata": {},
   "outputs": [],
   "source": [
    "tree[\"f1\"] = np.where(tree[\"x\"] <= thres, \n",
    "                      tree[\"f0\"] + left_value * lr, \n",
    "                      tree[\"f0\"] + right_value * lr)"
   ]
  },
  {
   "cell_type": "code",
   "execution_count": 13,
   "metadata": {},
   "outputs": [
    {
     "data": {
      "text/html": [
       "<div>\n",
       "<style scoped>\n",
       "    .dataframe tbody tr th:only-of-type {\n",
       "        vertical-align: middle;\n",
       "    }\n",
       "\n",
       "    .dataframe tbody tr th {\n",
       "        vertical-align: top;\n",
       "    }\n",
       "\n",
       "    .dataframe thead th {\n",
       "        text-align: right;\n",
       "    }\n",
       "</style>\n",
       "<table border=\"1\" class=\"dataframe\">\n",
       "  <thead>\n",
       "    <tr style=\"text-align: right;\">\n",
       "      <th></th>\n",
       "      <th>x</th>\n",
       "      <th>y</th>\n",
       "      <th>f0</th>\n",
       "      <th>f0_proba</th>\n",
       "      <th>res_f0</th>\n",
       "      <th>f1</th>\n",
       "    </tr>\n",
       "  </thead>\n",
       "  <tbody>\n",
       "    <tr>\n",
       "      <td>0</td>\n",
       "      <td>1</td>\n",
       "      <td>0</td>\n",
       "      <td>-0.405465</td>\n",
       "      <td>0.4</td>\n",
       "      <td>-0.4</td>\n",
       "      <td>-0.467965</td>\n",
       "    </tr>\n",
       "    <tr>\n",
       "      <td>1</td>\n",
       "      <td>2</td>\n",
       "      <td>0</td>\n",
       "      <td>-0.405465</td>\n",
       "      <td>0.4</td>\n",
       "      <td>-0.4</td>\n",
       "      <td>-0.467965</td>\n",
       "    </tr>\n",
       "    <tr>\n",
       "      <td>2</td>\n",
       "      <td>3</td>\n",
       "      <td>0</td>\n",
       "      <td>-0.405465</td>\n",
       "      <td>0.4</td>\n",
       "      <td>-0.4</td>\n",
       "      <td>-0.467965</td>\n",
       "    </tr>\n",
       "    <tr>\n",
       "      <td>3</td>\n",
       "      <td>4</td>\n",
       "      <td>1</td>\n",
       "      <td>-0.405465</td>\n",
       "      <td>0.4</td>\n",
       "      <td>0.6</td>\n",
       "      <td>-0.467965</td>\n",
       "    </tr>\n",
       "    <tr>\n",
       "      <td>4</td>\n",
       "      <td>5</td>\n",
       "      <td>1</td>\n",
       "      <td>-0.405465</td>\n",
       "      <td>0.4</td>\n",
       "      <td>0.6</td>\n",
       "      <td>-0.467965</td>\n",
       "    </tr>\n",
       "    <tr>\n",
       "      <td>5</td>\n",
       "      <td>6</td>\n",
       "      <td>0</td>\n",
       "      <td>-0.405465</td>\n",
       "      <td>0.4</td>\n",
       "      <td>-0.4</td>\n",
       "      <td>-0.467965</td>\n",
       "    </tr>\n",
       "    <tr>\n",
       "      <td>6</td>\n",
       "      <td>7</td>\n",
       "      <td>0</td>\n",
       "      <td>-0.405465</td>\n",
       "      <td>0.4</td>\n",
       "      <td>-0.4</td>\n",
       "      <td>-0.467965</td>\n",
       "    </tr>\n",
       "    <tr>\n",
       "      <td>7</td>\n",
       "      <td>8</td>\n",
       "      <td>0</td>\n",
       "      <td>-0.405465</td>\n",
       "      <td>0.4</td>\n",
       "      <td>-0.4</td>\n",
       "      <td>-0.467965</td>\n",
       "    </tr>\n",
       "    <tr>\n",
       "      <td>8</td>\n",
       "      <td>9</td>\n",
       "      <td>1</td>\n",
       "      <td>-0.405465</td>\n",
       "      <td>0.4</td>\n",
       "      <td>0.6</td>\n",
       "      <td>-0.155465</td>\n",
       "    </tr>\n",
       "    <tr>\n",
       "      <td>9</td>\n",
       "      <td>10</td>\n",
       "      <td>1</td>\n",
       "      <td>-0.405465</td>\n",
       "      <td>0.4</td>\n",
       "      <td>0.6</td>\n",
       "      <td>-0.155465</td>\n",
       "    </tr>\n",
       "  </tbody>\n",
       "</table>\n",
       "</div>"
      ],
      "text/plain": [
       "    x  y        f0  f0_proba  res_f0        f1\n",
       "0   1  0 -0.405465       0.4    -0.4 -0.467965\n",
       "1   2  0 -0.405465       0.4    -0.4 -0.467965\n",
       "2   3  0 -0.405465       0.4    -0.4 -0.467965\n",
       "3   4  1 -0.405465       0.4     0.6 -0.467965\n",
       "4   5  1 -0.405465       0.4     0.6 -0.467965\n",
       "5   6  0 -0.405465       0.4    -0.4 -0.467965\n",
       "6   7  0 -0.405465       0.4    -0.4 -0.467965\n",
       "7   8  0 -0.405465       0.4    -0.4 -0.467965\n",
       "8   9  1 -0.405465       0.4     0.6 -0.155465\n",
       "9  10  1 -0.405465       0.4     0.6 -0.155465"
      ]
     },
     "execution_count": 13,
     "metadata": {},
     "output_type": "execute_result"
    }
   ],
   "source": [
    "tree"
   ]
  },
  {
   "cell_type": "markdown",
   "metadata": {},
   "source": [
    "### Repeat for several steps"
   ]
  },
  {
   "cell_type": "code",
   "execution_count": 14,
   "metadata": {},
   "outputs": [
    {
     "data": {
      "text/html": [
       "<div>\n",
       "<style scoped>\n",
       "    .dataframe tbody tr th:only-of-type {\n",
       "        vertical-align: middle;\n",
       "    }\n",
       "\n",
       "    .dataframe tbody tr th {\n",
       "        vertical-align: top;\n",
       "    }\n",
       "\n",
       "    .dataframe thead th {\n",
       "        text-align: right;\n",
       "    }\n",
       "</style>\n",
       "<table border=\"1\" class=\"dataframe\">\n",
       "  <thead>\n",
       "    <tr style=\"text-align: right;\">\n",
       "      <th></th>\n",
       "      <th>x</th>\n",
       "      <th>y</th>\n",
       "      <th>f0</th>\n",
       "      <th>f0_proba</th>\n",
       "      <th>res_f0</th>\n",
       "      <th>f1</th>\n",
       "      <th>f1_proba</th>\n",
       "      <th>res_f1</th>\n",
       "    </tr>\n",
       "  </thead>\n",
       "  <tbody>\n",
       "    <tr>\n",
       "      <td>0</td>\n",
       "      <td>1</td>\n",
       "      <td>0</td>\n",
       "      <td>-0.405465</td>\n",
       "      <td>0.4</td>\n",
       "      <td>-0.4</td>\n",
       "      <td>-0.467965</td>\n",
       "      <td>0.385098</td>\n",
       "      <td>-0.385098</td>\n",
       "    </tr>\n",
       "    <tr>\n",
       "      <td>1</td>\n",
       "      <td>2</td>\n",
       "      <td>0</td>\n",
       "      <td>-0.405465</td>\n",
       "      <td>0.4</td>\n",
       "      <td>-0.4</td>\n",
       "      <td>-0.467965</td>\n",
       "      <td>0.385098</td>\n",
       "      <td>-0.385098</td>\n",
       "    </tr>\n",
       "    <tr>\n",
       "      <td>2</td>\n",
       "      <td>3</td>\n",
       "      <td>0</td>\n",
       "      <td>-0.405465</td>\n",
       "      <td>0.4</td>\n",
       "      <td>-0.4</td>\n",
       "      <td>-0.467965</td>\n",
       "      <td>0.385098</td>\n",
       "      <td>-0.385098</td>\n",
       "    </tr>\n",
       "    <tr>\n",
       "      <td>3</td>\n",
       "      <td>4</td>\n",
       "      <td>1</td>\n",
       "      <td>-0.405465</td>\n",
       "      <td>0.4</td>\n",
       "      <td>0.6</td>\n",
       "      <td>-0.467965</td>\n",
       "      <td>0.385098</td>\n",
       "      <td>0.614902</td>\n",
       "    </tr>\n",
       "    <tr>\n",
       "      <td>4</td>\n",
       "      <td>5</td>\n",
       "      <td>1</td>\n",
       "      <td>-0.405465</td>\n",
       "      <td>0.4</td>\n",
       "      <td>0.6</td>\n",
       "      <td>-0.467965</td>\n",
       "      <td>0.385098</td>\n",
       "      <td>0.614902</td>\n",
       "    </tr>\n",
       "    <tr>\n",
       "      <td>5</td>\n",
       "      <td>6</td>\n",
       "      <td>0</td>\n",
       "      <td>-0.405465</td>\n",
       "      <td>0.4</td>\n",
       "      <td>-0.4</td>\n",
       "      <td>-0.467965</td>\n",
       "      <td>0.385098</td>\n",
       "      <td>-0.385098</td>\n",
       "    </tr>\n",
       "    <tr>\n",
       "      <td>6</td>\n",
       "      <td>7</td>\n",
       "      <td>0</td>\n",
       "      <td>-0.405465</td>\n",
       "      <td>0.4</td>\n",
       "      <td>-0.4</td>\n",
       "      <td>-0.467965</td>\n",
       "      <td>0.385098</td>\n",
       "      <td>-0.385098</td>\n",
       "    </tr>\n",
       "    <tr>\n",
       "      <td>7</td>\n",
       "      <td>8</td>\n",
       "      <td>0</td>\n",
       "      <td>-0.405465</td>\n",
       "      <td>0.4</td>\n",
       "      <td>-0.4</td>\n",
       "      <td>-0.467965</td>\n",
       "      <td>0.385098</td>\n",
       "      <td>-0.385098</td>\n",
       "    </tr>\n",
       "    <tr>\n",
       "      <td>8</td>\n",
       "      <td>9</td>\n",
       "      <td>1</td>\n",
       "      <td>-0.405465</td>\n",
       "      <td>0.4</td>\n",
       "      <td>0.6</td>\n",
       "      <td>-0.155465</td>\n",
       "      <td>0.461212</td>\n",
       "      <td>0.538788</td>\n",
       "    </tr>\n",
       "    <tr>\n",
       "      <td>9</td>\n",
       "      <td>10</td>\n",
       "      <td>1</td>\n",
       "      <td>-0.405465</td>\n",
       "      <td>0.4</td>\n",
       "      <td>0.6</td>\n",
       "      <td>-0.155465</td>\n",
       "      <td>0.461212</td>\n",
       "      <td>0.538788</td>\n",
       "    </tr>\n",
       "  </tbody>\n",
       "</table>\n",
       "</div>"
      ],
      "text/plain": [
       "    x  y        f0  f0_proba  res_f0        f1  f1_proba    res_f1\n",
       "0   1  0 -0.405465       0.4    -0.4 -0.467965  0.385098 -0.385098\n",
       "1   2  0 -0.405465       0.4    -0.4 -0.467965  0.385098 -0.385098\n",
       "2   3  0 -0.405465       0.4    -0.4 -0.467965  0.385098 -0.385098\n",
       "3   4  1 -0.405465       0.4     0.6 -0.467965  0.385098  0.614902\n",
       "4   5  1 -0.405465       0.4     0.6 -0.467965  0.385098  0.614902\n",
       "5   6  0 -0.405465       0.4    -0.4 -0.467965  0.385098 -0.385098\n",
       "6   7  0 -0.405465       0.4    -0.4 -0.467965  0.385098 -0.385098\n",
       "7   8  0 -0.405465       0.4    -0.4 -0.467965  0.385098 -0.385098\n",
       "8   9  1 -0.405465       0.4     0.6 -0.155465  0.461212  0.538788\n",
       "9  10  1 -0.405465       0.4     0.6 -0.155465  0.461212  0.538788"
      ]
     },
     "execution_count": 14,
     "metadata": {},
     "output_type": "execute_result"
    }
   ],
   "source": [
    "tree = calc_res_cls(tree, \"f1\")\n",
    "tree"
   ]
  },
  {
   "cell_type": "code",
   "execution_count": 15,
   "metadata": {},
   "outputs": [
    {
     "name": "stdout",
     "output_type": "stream",
     "text": [
      "The split point is: 8.5\n",
      "After split, the MSE of pseudo-residual on left: 0.1875\n",
      "After split, the MSE of pseudo-residual on right: 0.0\n"
     ]
    }
   ],
   "source": [
    "thres, left_mse, right_mse = split_cls(tree, \"x\", np.arange(0.5, 11.5, 1), \"res_f1\")\n",
    "print(\"The split point is:\", thres)\n",
    "print(\"After split, the MSE of pseudo-residual on left:\", left_mse)\n",
    "print(\"After split, the MSE of pseudo-residual on right:\", right_mse)"
   ]
  },
  {
   "cell_type": "code",
   "execution_count": 16,
   "metadata": {},
   "outputs": [
    {
     "name": "stdout",
     "output_type": "stream",
     "text": [
      "Left value: -0.5705211093125406\n",
      "Right value: 2.1682011746071073\n"
     ]
    }
   ],
   "source": [
    "left_value, right_value = leaf_val_cls(tree, \"x\", \"res_f1\", thres)\n",
    "print(\"Left value:\", left_value)\n",
    "print(\"Right value:\", right_value)"
   ]
  },
  {
   "cell_type": "code",
   "execution_count": 17,
   "metadata": {},
   "outputs": [],
   "source": [
    "tree[\"f2\"] = np.where(tree[\"x\"] <= thres, \n",
    "                      tree[\"f1\"] + left_value * lr, \n",
    "                      tree[\"f1\"] + right_value * lr)"
   ]
  },
  {
   "cell_type": "code",
   "execution_count": 18,
   "metadata": {},
   "outputs": [
    {
     "data": {
      "text/html": [
       "<div>\n",
       "<style scoped>\n",
       "    .dataframe tbody tr th:only-of-type {\n",
       "        vertical-align: middle;\n",
       "    }\n",
       "\n",
       "    .dataframe tbody tr th {\n",
       "        vertical-align: top;\n",
       "    }\n",
       "\n",
       "    .dataframe thead th {\n",
       "        text-align: right;\n",
       "    }\n",
       "</style>\n",
       "<table border=\"1\" class=\"dataframe\">\n",
       "  <thead>\n",
       "    <tr style=\"text-align: right;\">\n",
       "      <th></th>\n",
       "      <th>x</th>\n",
       "      <th>y</th>\n",
       "      <th>f0</th>\n",
       "      <th>f0_proba</th>\n",
       "      <th>res_f0</th>\n",
       "      <th>f1</th>\n",
       "      <th>f1_proba</th>\n",
       "      <th>res_f1</th>\n",
       "      <th>f2</th>\n",
       "      <th>f2_proba</th>\n",
       "      <th>res_f2</th>\n",
       "    </tr>\n",
       "  </thead>\n",
       "  <tbody>\n",
       "    <tr>\n",
       "      <td>0</td>\n",
       "      <td>1</td>\n",
       "      <td>0</td>\n",
       "      <td>-0.405465</td>\n",
       "      <td>0.4</td>\n",
       "      <td>-0.4</td>\n",
       "      <td>-0.467965</td>\n",
       "      <td>0.385098</td>\n",
       "      <td>-0.385098</td>\n",
       "      <td>-0.525017</td>\n",
       "      <td>0.371680</td>\n",
       "      <td>-0.371680</td>\n",
       "    </tr>\n",
       "    <tr>\n",
       "      <td>1</td>\n",
       "      <td>2</td>\n",
       "      <td>0</td>\n",
       "      <td>-0.405465</td>\n",
       "      <td>0.4</td>\n",
       "      <td>-0.4</td>\n",
       "      <td>-0.467965</td>\n",
       "      <td>0.385098</td>\n",
       "      <td>-0.385098</td>\n",
       "      <td>-0.525017</td>\n",
       "      <td>0.371680</td>\n",
       "      <td>-0.371680</td>\n",
       "    </tr>\n",
       "    <tr>\n",
       "      <td>2</td>\n",
       "      <td>3</td>\n",
       "      <td>0</td>\n",
       "      <td>-0.405465</td>\n",
       "      <td>0.4</td>\n",
       "      <td>-0.4</td>\n",
       "      <td>-0.467965</td>\n",
       "      <td>0.385098</td>\n",
       "      <td>-0.385098</td>\n",
       "      <td>-0.525017</td>\n",
       "      <td>0.371680</td>\n",
       "      <td>-0.371680</td>\n",
       "    </tr>\n",
       "    <tr>\n",
       "      <td>3</td>\n",
       "      <td>4</td>\n",
       "      <td>1</td>\n",
       "      <td>-0.405465</td>\n",
       "      <td>0.4</td>\n",
       "      <td>0.6</td>\n",
       "      <td>-0.467965</td>\n",
       "      <td>0.385098</td>\n",
       "      <td>0.614902</td>\n",
       "      <td>-0.525017</td>\n",
       "      <td>0.371680</td>\n",
       "      <td>0.628320</td>\n",
       "    </tr>\n",
       "    <tr>\n",
       "      <td>4</td>\n",
       "      <td>5</td>\n",
       "      <td>1</td>\n",
       "      <td>-0.405465</td>\n",
       "      <td>0.4</td>\n",
       "      <td>0.6</td>\n",
       "      <td>-0.467965</td>\n",
       "      <td>0.385098</td>\n",
       "      <td>0.614902</td>\n",
       "      <td>-0.525017</td>\n",
       "      <td>0.371680</td>\n",
       "      <td>0.628320</td>\n",
       "    </tr>\n",
       "    <tr>\n",
       "      <td>5</td>\n",
       "      <td>6</td>\n",
       "      <td>0</td>\n",
       "      <td>-0.405465</td>\n",
       "      <td>0.4</td>\n",
       "      <td>-0.4</td>\n",
       "      <td>-0.467965</td>\n",
       "      <td>0.385098</td>\n",
       "      <td>-0.385098</td>\n",
       "      <td>-0.525017</td>\n",
       "      <td>0.371680</td>\n",
       "      <td>-0.371680</td>\n",
       "    </tr>\n",
       "    <tr>\n",
       "      <td>6</td>\n",
       "      <td>7</td>\n",
       "      <td>0</td>\n",
       "      <td>-0.405465</td>\n",
       "      <td>0.4</td>\n",
       "      <td>-0.4</td>\n",
       "      <td>-0.467965</td>\n",
       "      <td>0.385098</td>\n",
       "      <td>-0.385098</td>\n",
       "      <td>-0.525017</td>\n",
       "      <td>0.371680</td>\n",
       "      <td>-0.371680</td>\n",
       "    </tr>\n",
       "    <tr>\n",
       "      <td>7</td>\n",
       "      <td>8</td>\n",
       "      <td>0</td>\n",
       "      <td>-0.405465</td>\n",
       "      <td>0.4</td>\n",
       "      <td>-0.4</td>\n",
       "      <td>-0.467965</td>\n",
       "      <td>0.385098</td>\n",
       "      <td>-0.385098</td>\n",
       "      <td>-0.525017</td>\n",
       "      <td>0.371680</td>\n",
       "      <td>-0.371680</td>\n",
       "    </tr>\n",
       "    <tr>\n",
       "      <td>8</td>\n",
       "      <td>9</td>\n",
       "      <td>1</td>\n",
       "      <td>-0.405465</td>\n",
       "      <td>0.4</td>\n",
       "      <td>0.6</td>\n",
       "      <td>-0.155465</td>\n",
       "      <td>0.461212</td>\n",
       "      <td>0.538788</td>\n",
       "      <td>0.061355</td>\n",
       "      <td>0.515334</td>\n",
       "      <td>0.484666</td>\n",
       "    </tr>\n",
       "    <tr>\n",
       "      <td>9</td>\n",
       "      <td>10</td>\n",
       "      <td>1</td>\n",
       "      <td>-0.405465</td>\n",
       "      <td>0.4</td>\n",
       "      <td>0.6</td>\n",
       "      <td>-0.155465</td>\n",
       "      <td>0.461212</td>\n",
       "      <td>0.538788</td>\n",
       "      <td>0.061355</td>\n",
       "      <td>0.515334</td>\n",
       "      <td>0.484666</td>\n",
       "    </tr>\n",
       "  </tbody>\n",
       "</table>\n",
       "</div>"
      ],
      "text/plain": [
       "    x  y        f0  f0_proba  res_f0        f1  f1_proba    res_f1        f2  \\\n",
       "0   1  0 -0.405465       0.4    -0.4 -0.467965  0.385098 -0.385098 -0.525017   \n",
       "1   2  0 -0.405465       0.4    -0.4 -0.467965  0.385098 -0.385098 -0.525017   \n",
       "2   3  0 -0.405465       0.4    -0.4 -0.467965  0.385098 -0.385098 -0.525017   \n",
       "3   4  1 -0.405465       0.4     0.6 -0.467965  0.385098  0.614902 -0.525017   \n",
       "4   5  1 -0.405465       0.4     0.6 -0.467965  0.385098  0.614902 -0.525017   \n",
       "5   6  0 -0.405465       0.4    -0.4 -0.467965  0.385098 -0.385098 -0.525017   \n",
       "6   7  0 -0.405465       0.4    -0.4 -0.467965  0.385098 -0.385098 -0.525017   \n",
       "7   8  0 -0.405465       0.4    -0.4 -0.467965  0.385098 -0.385098 -0.525017   \n",
       "8   9  1 -0.405465       0.4     0.6 -0.155465  0.461212  0.538788  0.061355   \n",
       "9  10  1 -0.405465       0.4     0.6 -0.155465  0.461212  0.538788  0.061355   \n",
       "\n",
       "   f2_proba    res_f2  \n",
       "0  0.371680 -0.371680  \n",
       "1  0.371680 -0.371680  \n",
       "2  0.371680 -0.371680  \n",
       "3  0.371680  0.628320  \n",
       "4  0.371680  0.628320  \n",
       "5  0.371680 -0.371680  \n",
       "6  0.371680 -0.371680  \n",
       "7  0.371680 -0.371680  \n",
       "8  0.515334  0.484666  \n",
       "9  0.515334  0.484666  "
      ]
     },
     "execution_count": 18,
     "metadata": {},
     "output_type": "execute_result"
    }
   ],
   "source": [
    "tree = calc_res_cls(tree, \"f2\")\n",
    "tree"
   ]
  },
  {
   "cell_type": "code",
   "execution_count": 19,
   "metadata": {},
   "outputs": [
    {
     "name": "stdout",
     "output_type": "stream",
     "text": [
      "The split point is: 3.5\n",
      "After split, the MSE of pseudo-residual on left: 0.0\n",
      "After split, the MSE of pseudo-residual on right: 0.21392888430746773\n"
     ]
    }
   ],
   "source": [
    "thres, left_mse, right_mse = split_cls(tree, \"x\", np.arange(0.5, 11.5, 1), \"res_f2\")\n",
    "print(\"The split point is:\", thres)\n",
    "print(\"After split, the MSE of pseudo-residual on left:\", left_mse)\n",
    "print(\"After split, the MSE of pseudo-residual on right:\", right_mse)"
   ]
  },
  {
   "cell_type": "code",
   "execution_count": 20,
   "metadata": {},
   "outputs": [
    {
     "name": "stdout",
     "output_type": "stream",
     "text": [
      "Left value: -1.591545178439374\n",
      "Right value: 0.6663469228422207\n"
     ]
    }
   ],
   "source": [
    "left_value, right_value = leaf_val_cls(tree, \"x\", \"res_f2\", thres)\n",
    "print(\"Left value:\", left_value)\n",
    "print(\"Right value:\", right_value)"
   ]
  },
  {
   "cell_type": "code",
   "execution_count": 21,
   "metadata": {},
   "outputs": [],
   "source": [
    "tree[\"f3\"] = np.where(tree[\"x\"] <= thres, \n",
    "                      tree[\"f2\"] + left_value * lr, \n",
    "                      tree[\"f2\"] + right_value * lr)"
   ]
  },
  {
   "cell_type": "code",
   "execution_count": 22,
   "metadata": {},
   "outputs": [
    {
     "data": {
      "text/html": [
       "<div>\n",
       "<style scoped>\n",
       "    .dataframe tbody tr th:only-of-type {\n",
       "        vertical-align: middle;\n",
       "    }\n",
       "\n",
       "    .dataframe tbody tr th {\n",
       "        vertical-align: top;\n",
       "    }\n",
       "\n",
       "    .dataframe thead th {\n",
       "        text-align: right;\n",
       "    }\n",
       "</style>\n",
       "<table border=\"1\" class=\"dataframe\">\n",
       "  <thead>\n",
       "    <tr style=\"text-align: right;\">\n",
       "      <th></th>\n",
       "      <th>x</th>\n",
       "      <th>y</th>\n",
       "      <th>f0</th>\n",
       "      <th>f0_proba</th>\n",
       "      <th>res_f0</th>\n",
       "      <th>f1</th>\n",
       "      <th>f1_proba</th>\n",
       "      <th>res_f1</th>\n",
       "      <th>f2</th>\n",
       "      <th>f2_proba</th>\n",
       "      <th>res_f2</th>\n",
       "      <th>f3</th>\n",
       "      <th>f3_proba</th>\n",
       "      <th>res_f3</th>\n",
       "    </tr>\n",
       "  </thead>\n",
       "  <tbody>\n",
       "    <tr>\n",
       "      <td>0</td>\n",
       "      <td>1</td>\n",
       "      <td>0</td>\n",
       "      <td>-0.405465</td>\n",
       "      <td>0.4</td>\n",
       "      <td>-0.4</td>\n",
       "      <td>-0.467965</td>\n",
       "      <td>0.385098</td>\n",
       "      <td>-0.385098</td>\n",
       "      <td>-0.525017</td>\n",
       "      <td>0.371680</td>\n",
       "      <td>-0.371680</td>\n",
       "      <td>-0.684172</td>\n",
       "      <td>0.335331</td>\n",
       "      <td>-0.335331</td>\n",
       "    </tr>\n",
       "    <tr>\n",
       "      <td>1</td>\n",
       "      <td>2</td>\n",
       "      <td>0</td>\n",
       "      <td>-0.405465</td>\n",
       "      <td>0.4</td>\n",
       "      <td>-0.4</td>\n",
       "      <td>-0.467965</td>\n",
       "      <td>0.385098</td>\n",
       "      <td>-0.385098</td>\n",
       "      <td>-0.525017</td>\n",
       "      <td>0.371680</td>\n",
       "      <td>-0.371680</td>\n",
       "      <td>-0.684172</td>\n",
       "      <td>0.335331</td>\n",
       "      <td>-0.335331</td>\n",
       "    </tr>\n",
       "    <tr>\n",
       "      <td>2</td>\n",
       "      <td>3</td>\n",
       "      <td>0</td>\n",
       "      <td>-0.405465</td>\n",
       "      <td>0.4</td>\n",
       "      <td>-0.4</td>\n",
       "      <td>-0.467965</td>\n",
       "      <td>0.385098</td>\n",
       "      <td>-0.385098</td>\n",
       "      <td>-0.525017</td>\n",
       "      <td>0.371680</td>\n",
       "      <td>-0.371680</td>\n",
       "      <td>-0.684172</td>\n",
       "      <td>0.335331</td>\n",
       "      <td>-0.335331</td>\n",
       "    </tr>\n",
       "    <tr>\n",
       "      <td>3</td>\n",
       "      <td>4</td>\n",
       "      <td>1</td>\n",
       "      <td>-0.405465</td>\n",
       "      <td>0.4</td>\n",
       "      <td>0.6</td>\n",
       "      <td>-0.467965</td>\n",
       "      <td>0.385098</td>\n",
       "      <td>0.614902</td>\n",
       "      <td>-0.525017</td>\n",
       "      <td>0.371680</td>\n",
       "      <td>0.628320</td>\n",
       "      <td>-0.458383</td>\n",
       "      <td>0.387370</td>\n",
       "      <td>0.612630</td>\n",
       "    </tr>\n",
       "    <tr>\n",
       "      <td>4</td>\n",
       "      <td>5</td>\n",
       "      <td>1</td>\n",
       "      <td>-0.405465</td>\n",
       "      <td>0.4</td>\n",
       "      <td>0.6</td>\n",
       "      <td>-0.467965</td>\n",
       "      <td>0.385098</td>\n",
       "      <td>0.614902</td>\n",
       "      <td>-0.525017</td>\n",
       "      <td>0.371680</td>\n",
       "      <td>0.628320</td>\n",
       "      <td>-0.458383</td>\n",
       "      <td>0.387370</td>\n",
       "      <td>0.612630</td>\n",
       "    </tr>\n",
       "    <tr>\n",
       "      <td>5</td>\n",
       "      <td>6</td>\n",
       "      <td>0</td>\n",
       "      <td>-0.405465</td>\n",
       "      <td>0.4</td>\n",
       "      <td>-0.4</td>\n",
       "      <td>-0.467965</td>\n",
       "      <td>0.385098</td>\n",
       "      <td>-0.385098</td>\n",
       "      <td>-0.525017</td>\n",
       "      <td>0.371680</td>\n",
       "      <td>-0.371680</td>\n",
       "      <td>-0.458383</td>\n",
       "      <td>0.387370</td>\n",
       "      <td>-0.387370</td>\n",
       "    </tr>\n",
       "    <tr>\n",
       "      <td>6</td>\n",
       "      <td>7</td>\n",
       "      <td>0</td>\n",
       "      <td>-0.405465</td>\n",
       "      <td>0.4</td>\n",
       "      <td>-0.4</td>\n",
       "      <td>-0.467965</td>\n",
       "      <td>0.385098</td>\n",
       "      <td>-0.385098</td>\n",
       "      <td>-0.525017</td>\n",
       "      <td>0.371680</td>\n",
       "      <td>-0.371680</td>\n",
       "      <td>-0.458383</td>\n",
       "      <td>0.387370</td>\n",
       "      <td>-0.387370</td>\n",
       "    </tr>\n",
       "    <tr>\n",
       "      <td>7</td>\n",
       "      <td>8</td>\n",
       "      <td>0</td>\n",
       "      <td>-0.405465</td>\n",
       "      <td>0.4</td>\n",
       "      <td>-0.4</td>\n",
       "      <td>-0.467965</td>\n",
       "      <td>0.385098</td>\n",
       "      <td>-0.385098</td>\n",
       "      <td>-0.525017</td>\n",
       "      <td>0.371680</td>\n",
       "      <td>-0.371680</td>\n",
       "      <td>-0.458383</td>\n",
       "      <td>0.387370</td>\n",
       "      <td>-0.387370</td>\n",
       "    </tr>\n",
       "    <tr>\n",
       "      <td>8</td>\n",
       "      <td>9</td>\n",
       "      <td>1</td>\n",
       "      <td>-0.405465</td>\n",
       "      <td>0.4</td>\n",
       "      <td>0.6</td>\n",
       "      <td>-0.155465</td>\n",
       "      <td>0.461212</td>\n",
       "      <td>0.538788</td>\n",
       "      <td>0.061355</td>\n",
       "      <td>0.515334</td>\n",
       "      <td>0.484666</td>\n",
       "      <td>0.127990</td>\n",
       "      <td>0.531954</td>\n",
       "      <td>0.468046</td>\n",
       "    </tr>\n",
       "    <tr>\n",
       "      <td>9</td>\n",
       "      <td>10</td>\n",
       "      <td>1</td>\n",
       "      <td>-0.405465</td>\n",
       "      <td>0.4</td>\n",
       "      <td>0.6</td>\n",
       "      <td>-0.155465</td>\n",
       "      <td>0.461212</td>\n",
       "      <td>0.538788</td>\n",
       "      <td>0.061355</td>\n",
       "      <td>0.515334</td>\n",
       "      <td>0.484666</td>\n",
       "      <td>0.127990</td>\n",
       "      <td>0.531954</td>\n",
       "      <td>0.468046</td>\n",
       "    </tr>\n",
       "  </tbody>\n",
       "</table>\n",
       "</div>"
      ],
      "text/plain": [
       "    x  y        f0  f0_proba  res_f0        f1  f1_proba    res_f1        f2  \\\n",
       "0   1  0 -0.405465       0.4    -0.4 -0.467965  0.385098 -0.385098 -0.525017   \n",
       "1   2  0 -0.405465       0.4    -0.4 -0.467965  0.385098 -0.385098 -0.525017   \n",
       "2   3  0 -0.405465       0.4    -0.4 -0.467965  0.385098 -0.385098 -0.525017   \n",
       "3   4  1 -0.405465       0.4     0.6 -0.467965  0.385098  0.614902 -0.525017   \n",
       "4   5  1 -0.405465       0.4     0.6 -0.467965  0.385098  0.614902 -0.525017   \n",
       "5   6  0 -0.405465       0.4    -0.4 -0.467965  0.385098 -0.385098 -0.525017   \n",
       "6   7  0 -0.405465       0.4    -0.4 -0.467965  0.385098 -0.385098 -0.525017   \n",
       "7   8  0 -0.405465       0.4    -0.4 -0.467965  0.385098 -0.385098 -0.525017   \n",
       "8   9  1 -0.405465       0.4     0.6 -0.155465  0.461212  0.538788  0.061355   \n",
       "9  10  1 -0.405465       0.4     0.6 -0.155465  0.461212  0.538788  0.061355   \n",
       "\n",
       "   f2_proba    res_f2        f3  f3_proba    res_f3  \n",
       "0  0.371680 -0.371680 -0.684172  0.335331 -0.335331  \n",
       "1  0.371680 -0.371680 -0.684172  0.335331 -0.335331  \n",
       "2  0.371680 -0.371680 -0.684172  0.335331 -0.335331  \n",
       "3  0.371680  0.628320 -0.458383  0.387370  0.612630  \n",
       "4  0.371680  0.628320 -0.458383  0.387370  0.612630  \n",
       "5  0.371680 -0.371680 -0.458383  0.387370 -0.387370  \n",
       "6  0.371680 -0.371680 -0.458383  0.387370 -0.387370  \n",
       "7  0.371680 -0.371680 -0.458383  0.387370 -0.387370  \n",
       "8  0.515334  0.484666  0.127990  0.531954  0.468046  \n",
       "9  0.515334  0.484666  0.127990  0.531954  0.468046  "
      ]
     },
     "execution_count": 22,
     "metadata": {},
     "output_type": "execute_result"
    }
   ],
   "source": [
    "tree = calc_res_cls(tree, \"f3\")\n",
    "tree"
   ]
  },
  {
   "cell_type": "code",
   "execution_count": null,
   "metadata": {},
   "outputs": [],
   "source": []
  },
  {
   "cell_type": "markdown",
   "metadata": {},
   "source": [
    "## Let's check with GBDT in sklearn"
   ]
  },
  {
   "cell_type": "markdown",
   "metadata": {},
   "source": [
    "### 1. The output of the model"
   ]
  },
  {
   "cell_type": "code",
   "execution_count": 23,
   "metadata": {},
   "outputs": [],
   "source": [
    "clf_1 = gradient_boosting.GradientBoostingClassifier(n_estimators=3, max_depth=1)"
   ]
  },
  {
   "cell_type": "code",
   "execution_count": 24,
   "metadata": {},
   "outputs": [
    {
     "data": {
      "text/plain": [
       "GradientBoostingClassifier(criterion='friedman_mse', init=None,\n",
       "                           learning_rate=0.1, loss='deviance', max_depth=1,\n",
       "                           max_features=None, max_leaf_nodes=None,\n",
       "                           min_impurity_decrease=0.0, min_impurity_split=None,\n",
       "                           min_samples_leaf=1, min_samples_split=2,\n",
       "                           min_weight_fraction_leaf=0.0, n_estimators=3,\n",
       "                           n_iter_no_change=None, presort='auto',\n",
       "                           random_state=None, subsample=1.0, tol=0.0001,\n",
       "                           validation_fraction=0.1, verbose=0,\n",
       "                           warm_start=False)"
      ]
     },
     "execution_count": 24,
     "metadata": {},
     "output_type": "execute_result"
    }
   ],
   "source": [
    "clf_1.fit(df[[\"x\"]], df[\"y\"])"
   ]
  },
  {
   "cell_type": "code",
   "execution_count": 25,
   "metadata": {},
   "outputs": [
    {
     "data": {
      "text/plain": [
       "array([0.33533085, 0.33533085, 0.33533085, 0.3873696 , 0.3873696 ,\n",
       "       0.3873696 , 0.3873696 , 0.3873696 , 0.53195382, 0.53195382])"
      ]
     },
     "execution_count": 25,
     "metadata": {},
     "output_type": "execute_result"
    }
   ],
   "source": [
    "clf_1.predict_proba(df[[\"x\"]])[:, 1]"
   ]
  },
  {
   "cell_type": "markdown",
   "metadata": {},
   "source": [
    "### 2. Plot these trees"
   ]
  },
  {
   "cell_type": "code",
   "execution_count": 26,
   "metadata": {},
   "outputs": [
    {
     "data": {
      "text/plain": [
       "[Text(248.0, 277.2, 'X[0] <= 8.5\\nfriedman_mse = 0.24\\nsamples = 10\\nvalue = -0.0'),\n",
       " Text(124.0, 92.39999999999998, 'friedman_mse = 0.188\\nsamples = 8\\nvalue = -0.625'),\n",
       " Text(372.0, 92.39999999999998, 'friedman_mse = -0.0\\nsamples = 2\\nvalue = 2.5')]"
      ]
     },
     "execution_count": 26,
     "metadata": {},
     "output_type": "execute_result"
    }
   ],
   "source": [
    "plot_tree(clf_1.estimators_[0][0]) # 1st tree (split at 8.5)"
   ]
  },
  {
   "cell_type": "code",
   "execution_count": 27,
   "metadata": {},
   "outputs": [
    {
     "data": {
      "text/plain": [
       "[Text(167.4, 163.07999999999998, 'X[0] <= 8.5\\nfriedman_mse = 0.223\\nsamples = 10\\nvalue = -0.0'),\n",
       " Text(83.7, 54.360000000000014, 'friedman_mse = 0.187\\nsamples = 8\\nvalue = -0.571'),\n",
       " Text(251.10000000000002, 54.360000000000014, 'friedman_mse = 0.0\\nsamples = 2\\nvalue = 2.168')]"
      ]
     },
     "execution_count": 27,
     "metadata": {},
     "output_type": "execute_result"
    },
    {
     "data": {
      "image/png": "[encoded data removed]",
      "text/plain": [
       "<Figure size 432x288 with 1 Axes>"
      ]
     },
     "metadata": {
      "needs_background": "light"
     },
     "output_type": "display_data"
    }
   ],
   "source": [
    "plot_tree(clf_1.estimators_[1][0]) # 2nd tree (split at 8.5)"
   ]
  },
  {
   "cell_type": "code",
   "execution_count": 28,
   "metadata": {},
   "outputs": [
    {
     "data": {
      "text/plain": [
       "[Text(167.4, 163.07999999999998, 'X[0] <= 3.5\\nfriedman_mse = 0.209\\nsamples = 10\\nvalue = -0.0'),\n",
       " Text(83.7, 54.360000000000014, 'friedman_mse = 0.0\\nsamples = 3\\nvalue = -1.592'),\n",
       " Text(251.10000000000002, 54.360000000000014, 'friedman_mse = 0.214\\nsamples = 7\\nvalue = 0.666')]"
      ]
     },
     "execution_count": 28,
     "metadata": {},
     "output_type": "execute_result"
    },
    {
     "data": {
      "image/png": "[encoded data removed]",
      "text/plain": [
       "<Figure size 432x288 with 1 Axes>"
      ]
     },
     "metadata": {
      "needs_background": "light"
     },
     "output_type": "display_data"
    }
   ],
   "source": [
    "plot_tree(clf_1.estimators_[2][0]) # 3rd tree (split at 3.5)"
   ]
  },
  {
   "cell_type": "code",
   "execution_count": null,
   "metadata": {},
   "outputs": [],
   "source": []
  },
  {
   "cell_type": "markdown",
   "metadata": {},
   "source": [
    "# Regression"
   ]
  },
  {
   "cell_type": "markdown",
   "metadata": {},
   "source": [
    "## Dataset"
   ]
  },
  {
   "cell_type": "code",
   "execution_count": 29,
   "metadata": {},
   "outputs": [],
   "source": [
    "df2 = pd.DataFrame({\"x\":[1, 2, 3, 4, 5, 6, 7, 8, 9, 10], \n",
    "                    \"y\":[5.56, 5.7, 5.91, 6.4, 6.8, 7.05, 8.9, 8.7, 9, 9.05]})"
   ]
  },
  {
   "cell_type": "markdown",
   "metadata": {},
   "source": [
    "## Helper functions"
   ]
  },
  {
   "cell_type": "code",
   "execution_count": 30,
   "metadata": {},
   "outputs": [],
   "source": [
    "def init_reg(df):\n",
    "    \"\"\"\n",
    "    Initialize a regression tree with F0(x)\n",
    "    \n",
    "    Args:\n",
    "        df (DataFrame): The input DataFrame    \n",
    "    \n",
    "    Returns:\n",
    "        tree (DataFrame): The output DataFrame \n",
    "    \"\"\"\n",
    "    f_0 = df[\"y\"].mean() # simple average\n",
    "    \n",
    "    tree = df.copy()\n",
    "    tree[\"f0\"] = f_0\n",
    "    return tree"
   ]
  },
  {
   "cell_type": "code",
   "execution_count": 31,
   "metadata": {},
   "outputs": [],
   "source": [
    "def calc_res_reg(df, f_col_name):\n",
    "    \"\"\"\n",
    "    Calculate pseudo-residual\n",
    "    \n",
    "    Args:\n",
    "        df (DataFrame): The input DataFrame\n",
    "        f_col_name (str): A column of F(x), which is the prediction for regression\n",
    "        \n",
    "    Returns:\n",
    "        df (DataFrame): The output DataFrame with calculated results\n",
    "    \"\"\"\n",
    "    df[\"res_%s\"%f_col_name] = df[\"y\"] - df[f_col_name] # y - F(x)\n",
    "    return df"
   ]
  },
  {
   "cell_type": "code",
   "execution_count": 32,
   "metadata": {},
   "outputs": [],
   "source": [
    "split_reg = split_cls # split point search is the same with classification"
   ]
  },
  {
   "cell_type": "code",
   "execution_count": 33,
   "metadata": {},
   "outputs": [],
   "source": [
    "def leaf_val_reg(df, feat_col, res_col, thres):\n",
    "    \"\"\"\n",
    "    Calculate leaf node value (Newton-Raphson method)\n",
    "    \n",
    "    Args:\n",
    "        df (DataFrame): The input DataFrame\n",
    "        feat_col (str): The feature column to split\n",
    "        res_col (str): A column of pseudo-residual\n",
    "        thres (float): The split point\n",
    "    \n",
    "    Returns:\n",
    "        left_leaf_value (flaot): Left leaf node values\n",
    "        right_leaf_value (flaot): Right leaf node values\n",
    "    \"\"\"\n",
    "    left_leaf_value = df[df[feat_col] <= thres][res_col].mean()\n",
    "    right_leaf_value = df[df[feat_col] > thres][res_col].mean()\n",
    "    \n",
    "    return left_leaf_value, right_leaf_value"
   ]
  },
  {
   "cell_type": "markdown",
   "metadata": {},
   "source": [
    "## Here we go"
   ]
  },
  {
   "cell_type": "markdown",
   "metadata": {},
   "source": [
    "### 1. Initialization"
   ]
  },
  {
   "cell_type": "code",
   "execution_count": 34,
   "metadata": {},
   "outputs": [
    {
     "data": {
      "text/html": [
       "<div>\n",
       "<style scoped>\n",
       "    .dataframe tbody tr th:only-of-type {\n",
       "        vertical-align: middle;\n",
       "    }\n",
       "\n",
       "    .dataframe tbody tr th {\n",
       "        vertical-align: top;\n",
       "    }\n",
       "\n",
       "    .dataframe thead th {\n",
       "        text-align: right;\n",
       "    }\n",
       "</style>\n",
       "<table border=\"1\" class=\"dataframe\">\n",
       "  <thead>\n",
       "    <tr style=\"text-align: right;\">\n",
       "      <th></th>\n",
       "      <th>x</th>\n",
       "      <th>y</th>\n",
       "      <th>f0</th>\n",
       "    </tr>\n",
       "  </thead>\n",
       "  <tbody>\n",
       "    <tr>\n",
       "      <td>0</td>\n",
       "      <td>1</td>\n",
       "      <td>5.56</td>\n",
       "      <td>7.307</td>\n",
       "    </tr>\n",
       "    <tr>\n",
       "      <td>1</td>\n",
       "      <td>2</td>\n",
       "      <td>5.70</td>\n",
       "      <td>7.307</td>\n",
       "    </tr>\n",
       "    <tr>\n",
       "      <td>2</td>\n",
       "      <td>3</td>\n",
       "      <td>5.91</td>\n",
       "      <td>7.307</td>\n",
       "    </tr>\n",
       "    <tr>\n",
       "      <td>3</td>\n",
       "      <td>4</td>\n",
       "      <td>6.40</td>\n",
       "      <td>7.307</td>\n",
       "    </tr>\n",
       "    <tr>\n",
       "      <td>4</td>\n",
       "      <td>5</td>\n",
       "      <td>6.80</td>\n",
       "      <td>7.307</td>\n",
       "    </tr>\n",
       "    <tr>\n",
       "      <td>5</td>\n",
       "      <td>6</td>\n",
       "      <td>7.05</td>\n",
       "      <td>7.307</td>\n",
       "    </tr>\n",
       "    <tr>\n",
       "      <td>6</td>\n",
       "      <td>7</td>\n",
       "      <td>8.90</td>\n",
       "      <td>7.307</td>\n",
       "    </tr>\n",
       "    <tr>\n",
       "      <td>7</td>\n",
       "      <td>8</td>\n",
       "      <td>8.70</td>\n",
       "      <td>7.307</td>\n",
       "    </tr>\n",
       "    <tr>\n",
       "      <td>8</td>\n",
       "      <td>9</td>\n",
       "      <td>9.00</td>\n",
       "      <td>7.307</td>\n",
       "    </tr>\n",
       "    <tr>\n",
       "      <td>9</td>\n",
       "      <td>10</td>\n",
       "      <td>9.05</td>\n",
       "      <td>7.307</td>\n",
       "    </tr>\n",
       "  </tbody>\n",
       "</table>\n",
       "</div>"
      ],
      "text/plain": [
       "    x     y     f0\n",
       "0   1  5.56  7.307\n",
       "1   2  5.70  7.307\n",
       "2   3  5.91  7.307\n",
       "3   4  6.40  7.307\n",
       "4   5  6.80  7.307\n",
       "5   6  7.05  7.307\n",
       "6   7  8.90  7.307\n",
       "7   8  8.70  7.307\n",
       "8   9  9.00  7.307\n",
       "9  10  9.05  7.307"
      ]
     },
     "execution_count": 34,
     "metadata": {},
     "output_type": "execute_result"
    }
   ],
   "source": [
    "tree2 = init_reg(df2)\n",
    "tree2"
   ]
  },
  {
   "cell_type": "markdown",
   "metadata": {},
   "source": [
    "### 2. Calc pseudo-residual"
   ]
  },
  {
   "cell_type": "code",
   "execution_count": 35,
   "metadata": {},
   "outputs": [
    {
     "data": {
      "text/html": [
       "<div>\n",
       "<style scoped>\n",
       "    .dataframe tbody tr th:only-of-type {\n",
       "        vertical-align: middle;\n",
       "    }\n",
       "\n",
       "    .dataframe tbody tr th {\n",
       "        vertical-align: top;\n",
       "    }\n",
       "\n",
       "    .dataframe thead th {\n",
       "        text-align: right;\n",
       "    }\n",
       "</style>\n",
       "<table border=\"1\" class=\"dataframe\">\n",
       "  <thead>\n",
       "    <tr style=\"text-align: right;\">\n",
       "      <th></th>\n",
       "      <th>x</th>\n",
       "      <th>y</th>\n",
       "      <th>f0</th>\n",
       "      <th>res_f0</th>\n",
       "    </tr>\n",
       "  </thead>\n",
       "  <tbody>\n",
       "    <tr>\n",
       "      <td>0</td>\n",
       "      <td>1</td>\n",
       "      <td>5.56</td>\n",
       "      <td>7.307</td>\n",
       "      <td>-1.747</td>\n",
       "    </tr>\n",
       "    <tr>\n",
       "      <td>1</td>\n",
       "      <td>2</td>\n",
       "      <td>5.70</td>\n",
       "      <td>7.307</td>\n",
       "      <td>-1.607</td>\n",
       "    </tr>\n",
       "    <tr>\n",
       "      <td>2</td>\n",
       "      <td>3</td>\n",
       "      <td>5.91</td>\n",
       "      <td>7.307</td>\n",
       "      <td>-1.397</td>\n",
       "    </tr>\n",
       "    <tr>\n",
       "      <td>3</td>\n",
       "      <td>4</td>\n",
       "      <td>6.40</td>\n",
       "      <td>7.307</td>\n",
       "      <td>-0.907</td>\n",
       "    </tr>\n",
       "    <tr>\n",
       "      <td>4</td>\n",
       "      <td>5</td>\n",
       "      <td>6.80</td>\n",
       "      <td>7.307</td>\n",
       "      <td>-0.507</td>\n",
       "    </tr>\n",
       "    <tr>\n",
       "      <td>5</td>\n",
       "      <td>6</td>\n",
       "      <td>7.05</td>\n",
       "      <td>7.307</td>\n",
       "      <td>-0.257</td>\n",
       "    </tr>\n",
       "    <tr>\n",
       "      <td>6</td>\n",
       "      <td>7</td>\n",
       "      <td>8.90</td>\n",
       "      <td>7.307</td>\n",
       "      <td>1.593</td>\n",
       "    </tr>\n",
       "    <tr>\n",
       "      <td>7</td>\n",
       "      <td>8</td>\n",
       "      <td>8.70</td>\n",
       "      <td>7.307</td>\n",
       "      <td>1.393</td>\n",
       "    </tr>\n",
       "    <tr>\n",
       "      <td>8</td>\n",
       "      <td>9</td>\n",
       "      <td>9.00</td>\n",
       "      <td>7.307</td>\n",
       "      <td>1.693</td>\n",
       "    </tr>\n",
       "    <tr>\n",
       "      <td>9</td>\n",
       "      <td>10</td>\n",
       "      <td>9.05</td>\n",
       "      <td>7.307</td>\n",
       "      <td>1.743</td>\n",
       "    </tr>\n",
       "  </tbody>\n",
       "</table>\n",
       "</div>"
      ],
      "text/plain": [
       "    x     y     f0  res_f0\n",
       "0   1  5.56  7.307  -1.747\n",
       "1   2  5.70  7.307  -1.607\n",
       "2   3  5.91  7.307  -1.397\n",
       "3   4  6.40  7.307  -0.907\n",
       "4   5  6.80  7.307  -0.507\n",
       "5   6  7.05  7.307  -0.257\n",
       "6   7  8.90  7.307   1.593\n",
       "7   8  8.70  7.307   1.393\n",
       "8   9  9.00  7.307   1.693\n",
       "9  10  9.05  7.307   1.743"
      ]
     },
     "execution_count": 35,
     "metadata": {},
     "output_type": "execute_result"
    }
   ],
   "source": [
    "tree2 = calc_res_reg(tree2, \"f0\")\n",
    "tree2"
   ]
  },
  {
   "cell_type": "markdown",
   "metadata": {},
   "source": [
    "### 3. Find the split point"
   ]
  },
  {
   "cell_type": "code",
   "execution_count": 36,
   "metadata": {},
   "outputs": [
    {
     "name": "stdout",
     "output_type": "stream",
     "text": [
      "The split point is: 6.5\n",
      "After split, the MSE of pseudo-residual on left: 0.30968888888888885\n",
      "After split, the MSE of pseudo-residual on right: 0.017968750000000124\n"
     ]
    }
   ],
   "source": [
    "thres, left_mse, right_mse = split_reg(tree2, \"x\", np.arange(0.5, 11.5, 1), \"res_f0\")\n",
    "print(\"The split point is:\", thres)\n",
    "print(\"After split, the MSE of pseudo-residual on left:\", left_mse)\n",
    "print(\"After split, the MSE of pseudo-residual on right:\", right_mse)"
   ]
  },
  {
   "cell_type": "markdown",
   "metadata": {},
   "source": [
    "### 4. Calc leaf node values"
   ]
  },
  {
   "cell_type": "code",
   "execution_count": 37,
   "metadata": {},
   "outputs": [
    {
     "name": "stdout",
     "output_type": "stream",
     "text": [
      "Left value: -1.070333333333333\n",
      "Right value: 1.6055000000000006\n"
     ]
    }
   ],
   "source": [
    "left_value, right_value = leaf_val_reg(tree2, \"x\", \"res_f0\", thres)\n",
    "print(\"Left value:\", left_value)\n",
    "print(\"Right value:\", right_value)"
   ]
  },
  {
   "cell_type": "markdown",
   "metadata": {},
   "source": [
    "### 5. Update F(x)"
   ]
  },
  {
   "cell_type": "markdown",
   "metadata": {},
   "source": [
    "```F1(x) = F0(x) + lr * f1(x)```"
   ]
  },
  {
   "cell_type": "code",
   "execution_count": 38,
   "metadata": {},
   "outputs": [],
   "source": [
    "lr = 0.1 # learning rate"
   ]
  },
  {
   "cell_type": "code",
   "execution_count": 39,
   "metadata": {},
   "outputs": [],
   "source": [
    "tree2[\"f1\"] = np.where(tree2[\"x\"] <= thres, \n",
    "                       tree2[\"f0\"] + left_value * lr, \n",
    "                       tree2[\"f0\"] + right_value * lr)"
   ]
  },
  {
   "cell_type": "code",
   "execution_count": 40,
   "metadata": {},
   "outputs": [
    {
     "data": {
      "text/html": [
       "<div>\n",
       "<style scoped>\n",
       "    .dataframe tbody tr th:only-of-type {\n",
       "        vertical-align: middle;\n",
       "    }\n",
       "\n",
       "    .dataframe tbody tr th {\n",
       "        vertical-align: top;\n",
       "    }\n",
       "\n",
       "    .dataframe thead th {\n",
       "        text-align: right;\n",
       "    }\n",
       "</style>\n",
       "<table border=\"1\" class=\"dataframe\">\n",
       "  <thead>\n",
       "    <tr style=\"text-align: right;\">\n",
       "      <th></th>\n",
       "      <th>x</th>\n",
       "      <th>y</th>\n",
       "      <th>f0</th>\n",
       "      <th>res_f0</th>\n",
       "      <th>f1</th>\n",
       "    </tr>\n",
       "  </thead>\n",
       "  <tbody>\n",
       "    <tr>\n",
       "      <td>0</td>\n",
       "      <td>1</td>\n",
       "      <td>5.56</td>\n",
       "      <td>7.307</td>\n",
       "      <td>-1.747</td>\n",
       "      <td>7.199967</td>\n",
       "    </tr>\n",
       "    <tr>\n",
       "      <td>1</td>\n",
       "      <td>2</td>\n",
       "      <td>5.70</td>\n",
       "      <td>7.307</td>\n",
       "      <td>-1.607</td>\n",
       "      <td>7.199967</td>\n",
       "    </tr>\n",
       "    <tr>\n",
       "      <td>2</td>\n",
       "      <td>3</td>\n",
       "      <td>5.91</td>\n",
       "      <td>7.307</td>\n",
       "      <td>-1.397</td>\n",
       "      <td>7.199967</td>\n",
       "    </tr>\n",
       "    <tr>\n",
       "      <td>3</td>\n",
       "      <td>4</td>\n",
       "      <td>6.40</td>\n",
       "      <td>7.307</td>\n",
       "      <td>-0.907</td>\n",
       "      <td>7.199967</td>\n",
       "    </tr>\n",
       "    <tr>\n",
       "      <td>4</td>\n",
       "      <td>5</td>\n",
       "      <td>6.80</td>\n",
       "      <td>7.307</td>\n",
       "      <td>-0.507</td>\n",
       "      <td>7.199967</td>\n",
       "    </tr>\n",
       "    <tr>\n",
       "      <td>5</td>\n",
       "      <td>6</td>\n",
       "      <td>7.05</td>\n",
       "      <td>7.307</td>\n",
       "      <td>-0.257</td>\n",
       "      <td>7.199967</td>\n",
       "    </tr>\n",
       "    <tr>\n",
       "      <td>6</td>\n",
       "      <td>7</td>\n",
       "      <td>8.90</td>\n",
       "      <td>7.307</td>\n",
       "      <td>1.593</td>\n",
       "      <td>7.467550</td>\n",
       "    </tr>\n",
       "    <tr>\n",
       "      <td>7</td>\n",
       "      <td>8</td>\n",
       "      <td>8.70</td>\n",
       "      <td>7.307</td>\n",
       "      <td>1.393</td>\n",
       "      <td>7.467550</td>\n",
       "    </tr>\n",
       "    <tr>\n",
       "      <td>8</td>\n",
       "      <td>9</td>\n",
       "      <td>9.00</td>\n",
       "      <td>7.307</td>\n",
       "      <td>1.693</td>\n",
       "      <td>7.467550</td>\n",
       "    </tr>\n",
       "    <tr>\n",
       "      <td>9</td>\n",
       "      <td>10</td>\n",
       "      <td>9.05</td>\n",
       "      <td>7.307</td>\n",
       "      <td>1.743</td>\n",
       "      <td>7.467550</td>\n",
       "    </tr>\n",
       "  </tbody>\n",
       "</table>\n",
       "</div>"
      ],
      "text/plain": [
       "    x     y     f0  res_f0        f1\n",
       "0   1  5.56  7.307  -1.747  7.199967\n",
       "1   2  5.70  7.307  -1.607  7.199967\n",
       "2   3  5.91  7.307  -1.397  7.199967\n",
       "3   4  6.40  7.307  -0.907  7.199967\n",
       "4   5  6.80  7.307  -0.507  7.199967\n",
       "5   6  7.05  7.307  -0.257  7.199967\n",
       "6   7  8.90  7.307   1.593  7.467550\n",
       "7   8  8.70  7.307   1.393  7.467550\n",
       "8   9  9.00  7.307   1.693  7.467550\n",
       "9  10  9.05  7.307   1.743  7.467550"
      ]
     },
     "execution_count": 40,
     "metadata": {},
     "output_type": "execute_result"
    }
   ],
   "source": [
    "tree2"
   ]
  },
  {
   "cell_type": "markdown",
   "metadata": {},
   "source": [
    "### Repeat for several steps"
   ]
  },
  {
   "cell_type": "code",
   "execution_count": 41,
   "metadata": {},
   "outputs": [
    {
     "data": {
      "text/html": [
       "<div>\n",
       "<style scoped>\n",
       "    .dataframe tbody tr th:only-of-type {\n",
       "        vertical-align: middle;\n",
       "    }\n",
       "\n",
       "    .dataframe tbody tr th {\n",
       "        vertical-align: top;\n",
       "    }\n",
       "\n",
       "    .dataframe thead th {\n",
       "        text-align: right;\n",
       "    }\n",
       "</style>\n",
       "<table border=\"1\" class=\"dataframe\">\n",
       "  <thead>\n",
       "    <tr style=\"text-align: right;\">\n",
       "      <th></th>\n",
       "      <th>x</th>\n",
       "      <th>y</th>\n",
       "      <th>f0</th>\n",
       "      <th>res_f0</th>\n",
       "      <th>f1</th>\n",
       "      <th>res_f1</th>\n",
       "    </tr>\n",
       "  </thead>\n",
       "  <tbody>\n",
       "    <tr>\n",
       "      <td>0</td>\n",
       "      <td>1</td>\n",
       "      <td>5.56</td>\n",
       "      <td>7.307</td>\n",
       "      <td>-1.747</td>\n",
       "      <td>7.199967</td>\n",
       "      <td>-1.639967</td>\n",
       "    </tr>\n",
       "    <tr>\n",
       "      <td>1</td>\n",
       "      <td>2</td>\n",
       "      <td>5.70</td>\n",
       "      <td>7.307</td>\n",
       "      <td>-1.607</td>\n",
       "      <td>7.199967</td>\n",
       "      <td>-1.499967</td>\n",
       "    </tr>\n",
       "    <tr>\n",
       "      <td>2</td>\n",
       "      <td>3</td>\n",
       "      <td>5.91</td>\n",
       "      <td>7.307</td>\n",
       "      <td>-1.397</td>\n",
       "      <td>7.199967</td>\n",
       "      <td>-1.289967</td>\n",
       "    </tr>\n",
       "    <tr>\n",
       "      <td>3</td>\n",
       "      <td>4</td>\n",
       "      <td>6.40</td>\n",
       "      <td>7.307</td>\n",
       "      <td>-0.907</td>\n",
       "      <td>7.199967</td>\n",
       "      <td>-0.799967</td>\n",
       "    </tr>\n",
       "    <tr>\n",
       "      <td>4</td>\n",
       "      <td>5</td>\n",
       "      <td>6.80</td>\n",
       "      <td>7.307</td>\n",
       "      <td>-0.507</td>\n",
       "      <td>7.199967</td>\n",
       "      <td>-0.399967</td>\n",
       "    </tr>\n",
       "    <tr>\n",
       "      <td>5</td>\n",
       "      <td>6</td>\n",
       "      <td>7.05</td>\n",
       "      <td>7.307</td>\n",
       "      <td>-0.257</td>\n",
       "      <td>7.199967</td>\n",
       "      <td>-0.149967</td>\n",
       "    </tr>\n",
       "    <tr>\n",
       "      <td>6</td>\n",
       "      <td>7</td>\n",
       "      <td>8.90</td>\n",
       "      <td>7.307</td>\n",
       "      <td>1.593</td>\n",
       "      <td>7.467550</td>\n",
       "      <td>1.432450</td>\n",
       "    </tr>\n",
       "    <tr>\n",
       "      <td>7</td>\n",
       "      <td>8</td>\n",
       "      <td>8.70</td>\n",
       "      <td>7.307</td>\n",
       "      <td>1.393</td>\n",
       "      <td>7.467550</td>\n",
       "      <td>1.232450</td>\n",
       "    </tr>\n",
       "    <tr>\n",
       "      <td>8</td>\n",
       "      <td>9</td>\n",
       "      <td>9.00</td>\n",
       "      <td>7.307</td>\n",
       "      <td>1.693</td>\n",
       "      <td>7.467550</td>\n",
       "      <td>1.532450</td>\n",
       "    </tr>\n",
       "    <tr>\n",
       "      <td>9</td>\n",
       "      <td>10</td>\n",
       "      <td>9.05</td>\n",
       "      <td>7.307</td>\n",
       "      <td>1.743</td>\n",
       "      <td>7.467550</td>\n",
       "      <td>1.582450</td>\n",
       "    </tr>\n",
       "  </tbody>\n",
       "</table>\n",
       "</div>"
      ],
      "text/plain": [
       "    x     y     f0  res_f0        f1    res_f1\n",
       "0   1  5.56  7.307  -1.747  7.199967 -1.639967\n",
       "1   2  5.70  7.307  -1.607  7.199967 -1.499967\n",
       "2   3  5.91  7.307  -1.397  7.199967 -1.289967\n",
       "3   4  6.40  7.307  -0.907  7.199967 -0.799967\n",
       "4   5  6.80  7.307  -0.507  7.199967 -0.399967\n",
       "5   6  7.05  7.307  -0.257  7.199967 -0.149967\n",
       "6   7  8.90  7.307   1.593  7.467550  1.432450\n",
       "7   8  8.70  7.307   1.393  7.467550  1.232450\n",
       "8   9  9.00  7.307   1.693  7.467550  1.532450\n",
       "9  10  9.05  7.307   1.743  7.467550  1.582450"
      ]
     },
     "execution_count": 41,
     "metadata": {},
     "output_type": "execute_result"
    }
   ],
   "source": [
    "tree2 = calc_res_reg(tree2, \"f1\")\n",
    "tree2"
   ]
  },
  {
   "cell_type": "code",
   "execution_count": 42,
   "metadata": {},
   "outputs": [
    {
     "name": "stdout",
     "output_type": "stream",
     "text": [
      "The split point is: 6.5\n",
      "After split, the MSE of pseudo-residual on left: 0.3096888888888889\n",
      "After split, the MSE of pseudo-residual on right: 0.017968750000000124\n"
     ]
    }
   ],
   "source": [
    "thres, left_mse, right_mse = split_reg(tree2, \"x\", np.arange(0.5, 11.5, 1), \"res_f1\")\n",
    "print(\"The split point is:\", thres)\n",
    "print(\"After split, the MSE of pseudo-residual on left:\", left_mse)\n",
    "print(\"After split, the MSE of pseudo-residual on right:\", right_mse)"
   ]
  },
  {
   "cell_type": "code",
   "execution_count": 43,
   "metadata": {},
   "outputs": [
    {
     "name": "stdout",
     "output_type": "stream",
     "text": [
      "Left value: -0.9632999999999999\n",
      "Right value: 1.4449500000000008\n"
     ]
    }
   ],
   "source": [
    "left_value, right_value = leaf_val_reg(tree2, \"x\", \"res_f1\", thres)\n",
    "print(\"Left value:\", left_value)\n",
    "print(\"Right value:\", right_value)"
   ]
  },
  {
   "cell_type": "code",
   "execution_count": 44,
   "metadata": {},
   "outputs": [],
   "source": [
    "tree2[\"f2\"] = np.where(tree2[\"x\"] <= thres, \n",
    "                       tree2[\"f1\"] + left_value * lr, \n",
    "                       tree2[\"f1\"] + right_value * lr)"
   ]
  },
  {
   "cell_type": "code",
   "execution_count": 45,
   "metadata": {},
   "outputs": [
    {
     "data": {
      "text/html": [
       "<div>\n",
       "<style scoped>\n",
       "    .dataframe tbody tr th:only-of-type {\n",
       "        vertical-align: middle;\n",
       "    }\n",
       "\n",
       "    .dataframe tbody tr th {\n",
       "        vertical-align: top;\n",
       "    }\n",
       "\n",
       "    .dataframe thead th {\n",
       "        text-align: right;\n",
       "    }\n",
       "</style>\n",
       "<table border=\"1\" class=\"dataframe\">\n",
       "  <thead>\n",
       "    <tr style=\"text-align: right;\">\n",
       "      <th></th>\n",
       "      <th>x</th>\n",
       "      <th>y</th>\n",
       "      <th>f0</th>\n",
       "      <th>res_f0</th>\n",
       "      <th>f1</th>\n",
       "      <th>res_f1</th>\n",
       "      <th>f2</th>\n",
       "      <th>res_f2</th>\n",
       "    </tr>\n",
       "  </thead>\n",
       "  <tbody>\n",
       "    <tr>\n",
       "      <td>0</td>\n",
       "      <td>1</td>\n",
       "      <td>5.56</td>\n",
       "      <td>7.307</td>\n",
       "      <td>-1.747</td>\n",
       "      <td>7.199967</td>\n",
       "      <td>-1.639967</td>\n",
       "      <td>7.103637</td>\n",
       "      <td>-1.543637</td>\n",
       "    </tr>\n",
       "    <tr>\n",
       "      <td>1</td>\n",
       "      <td>2</td>\n",
       "      <td>5.70</td>\n",
       "      <td>7.307</td>\n",
       "      <td>-1.607</td>\n",
       "      <td>7.199967</td>\n",
       "      <td>-1.499967</td>\n",
       "      <td>7.103637</td>\n",
       "      <td>-1.403637</td>\n",
       "    </tr>\n",
       "    <tr>\n",
       "      <td>2</td>\n",
       "      <td>3</td>\n",
       "      <td>5.91</td>\n",
       "      <td>7.307</td>\n",
       "      <td>-1.397</td>\n",
       "      <td>7.199967</td>\n",
       "      <td>-1.289967</td>\n",
       "      <td>7.103637</td>\n",
       "      <td>-1.193637</td>\n",
       "    </tr>\n",
       "    <tr>\n",
       "      <td>3</td>\n",
       "      <td>4</td>\n",
       "      <td>6.40</td>\n",
       "      <td>7.307</td>\n",
       "      <td>-0.907</td>\n",
       "      <td>7.199967</td>\n",
       "      <td>-0.799967</td>\n",
       "      <td>7.103637</td>\n",
       "      <td>-0.703637</td>\n",
       "    </tr>\n",
       "    <tr>\n",
       "      <td>4</td>\n",
       "      <td>5</td>\n",
       "      <td>6.80</td>\n",
       "      <td>7.307</td>\n",
       "      <td>-0.507</td>\n",
       "      <td>7.199967</td>\n",
       "      <td>-0.399967</td>\n",
       "      <td>7.103637</td>\n",
       "      <td>-0.303637</td>\n",
       "    </tr>\n",
       "    <tr>\n",
       "      <td>5</td>\n",
       "      <td>6</td>\n",
       "      <td>7.05</td>\n",
       "      <td>7.307</td>\n",
       "      <td>-0.257</td>\n",
       "      <td>7.199967</td>\n",
       "      <td>-0.149967</td>\n",
       "      <td>7.103637</td>\n",
       "      <td>-0.053637</td>\n",
       "    </tr>\n",
       "    <tr>\n",
       "      <td>6</td>\n",
       "      <td>7</td>\n",
       "      <td>8.90</td>\n",
       "      <td>7.307</td>\n",
       "      <td>1.593</td>\n",
       "      <td>7.467550</td>\n",
       "      <td>1.432450</td>\n",
       "      <td>7.612045</td>\n",
       "      <td>1.287955</td>\n",
       "    </tr>\n",
       "    <tr>\n",
       "      <td>7</td>\n",
       "      <td>8</td>\n",
       "      <td>8.70</td>\n",
       "      <td>7.307</td>\n",
       "      <td>1.393</td>\n",
       "      <td>7.467550</td>\n",
       "      <td>1.232450</td>\n",
       "      <td>7.612045</td>\n",
       "      <td>1.087955</td>\n",
       "    </tr>\n",
       "    <tr>\n",
       "      <td>8</td>\n",
       "      <td>9</td>\n",
       "      <td>9.00</td>\n",
       "      <td>7.307</td>\n",
       "      <td>1.693</td>\n",
       "      <td>7.467550</td>\n",
       "      <td>1.532450</td>\n",
       "      <td>7.612045</td>\n",
       "      <td>1.387955</td>\n",
       "    </tr>\n",
       "    <tr>\n",
       "      <td>9</td>\n",
       "      <td>10</td>\n",
       "      <td>9.05</td>\n",
       "      <td>7.307</td>\n",
       "      <td>1.743</td>\n",
       "      <td>7.467550</td>\n",
       "      <td>1.582450</td>\n",
       "      <td>7.612045</td>\n",
       "      <td>1.437955</td>\n",
       "    </tr>\n",
       "  </tbody>\n",
       "</table>\n",
       "</div>"
      ],
      "text/plain": [
       "    x     y     f0  res_f0        f1    res_f1        f2    res_f2\n",
       "0   1  5.56  7.307  -1.747  7.199967 -1.639967  7.103637 -1.543637\n",
       "1   2  5.70  7.307  -1.607  7.199967 -1.499967  7.103637 -1.403637\n",
       "2   3  5.91  7.307  -1.397  7.199967 -1.289967  7.103637 -1.193637\n",
       "3   4  6.40  7.307  -0.907  7.199967 -0.799967  7.103637 -0.703637\n",
       "4   5  6.80  7.307  -0.507  7.199967 -0.399967  7.103637 -0.303637\n",
       "5   6  7.05  7.307  -0.257  7.199967 -0.149967  7.103637 -0.053637\n",
       "6   7  8.90  7.307   1.593  7.467550  1.432450  7.612045  1.287955\n",
       "7   8  8.70  7.307   1.393  7.467550  1.232450  7.612045  1.087955\n",
       "8   9  9.00  7.307   1.693  7.467550  1.532450  7.612045  1.387955\n",
       "9  10  9.05  7.307   1.743  7.467550  1.582450  7.612045  1.437955"
      ]
     },
     "execution_count": 45,
     "metadata": {},
     "output_type": "execute_result"
    }
   ],
   "source": [
    "tree2 = calc_res_reg(tree2, \"f2\")\n",
    "tree2"
   ]
  },
  {
   "cell_type": "code",
   "execution_count": 46,
   "metadata": {},
   "outputs": [
    {
     "name": "stdout",
     "output_type": "stream",
     "text": [
      "The split point is: 6.5\n",
      "After split, the MSE of pseudo-residual on left: 0.3096888888888889\n",
      "After split, the MSE of pseudo-residual on right: 0.017968750000000124\n"
     ]
    }
   ],
   "source": [
    "thres, left_mse, right_mse = split_reg(tree2, \"x\", np.arange(0.5, 11.5, 1), \"res_f2\")\n",
    "print(\"The split point is:\", thres)\n",
    "print(\"After split, the MSE of pseudo-residual on left:\", left_mse)\n",
    "print(\"After split, the MSE of pseudo-residual on right:\", right_mse)"
   ]
  },
  {
   "cell_type": "code",
   "execution_count": 47,
   "metadata": {},
   "outputs": [
    {
     "name": "stdout",
     "output_type": "stream",
     "text": [
      "Left value: -0.8669699999999999\n",
      "Right value: 1.3004550000000008\n"
     ]
    }
   ],
   "source": [
    "left_value, right_value = leaf_val_reg(tree2, \"x\", \"res_f2\", thres)\n",
    "print(\"Left value:\", left_value)\n",
    "print(\"Right value:\", right_value)"
   ]
  },
  {
   "cell_type": "code",
   "execution_count": 48,
   "metadata": {},
   "outputs": [],
   "source": [
    "tree2[\"f3\"] = np.where(tree2[\"x\"] <= thres, \n",
    "                       tree2[\"f2\"] + left_value * lr, \n",
    "                       tree2[\"f2\"] + right_value * lr)"
   ]
  },
  {
   "cell_type": "code",
   "execution_count": 49,
   "metadata": {},
   "outputs": [
    {
     "data": {
      "text/html": [
       "<div>\n",
       "<style scoped>\n",
       "    .dataframe tbody tr th:only-of-type {\n",
       "        vertical-align: middle;\n",
       "    }\n",
       "\n",
       "    .dataframe tbody tr th {\n",
       "        vertical-align: top;\n",
       "    }\n",
       "\n",
       "    .dataframe thead th {\n",
       "        text-align: right;\n",
       "    }\n",
       "</style>\n",
       "<table border=\"1\" class=\"dataframe\">\n",
       "  <thead>\n",
       "    <tr style=\"text-align: right;\">\n",
       "      <th></th>\n",
       "      <th>x</th>\n",
       "      <th>y</th>\n",
       "      <th>f0</th>\n",
       "      <th>res_f0</th>\n",
       "      <th>f1</th>\n",
       "      <th>res_f1</th>\n",
       "      <th>f2</th>\n",
       "      <th>res_f2</th>\n",
       "      <th>f3</th>\n",
       "      <th>res_f3</th>\n",
       "    </tr>\n",
       "  </thead>\n",
       "  <tbody>\n",
       "    <tr>\n",
       "      <td>0</td>\n",
       "      <td>1</td>\n",
       "      <td>5.56</td>\n",
       "      <td>7.307</td>\n",
       "      <td>-1.747</td>\n",
       "      <td>7.199967</td>\n",
       "      <td>-1.639967</td>\n",
       "      <td>7.103637</td>\n",
       "      <td>-1.543637</td>\n",
       "      <td>7.01694</td>\n",
       "      <td>-1.456940</td>\n",
       "    </tr>\n",
       "    <tr>\n",
       "      <td>1</td>\n",
       "      <td>2</td>\n",
       "      <td>5.70</td>\n",
       "      <td>7.307</td>\n",
       "      <td>-1.607</td>\n",
       "      <td>7.199967</td>\n",
       "      <td>-1.499967</td>\n",
       "      <td>7.103637</td>\n",
       "      <td>-1.403637</td>\n",
       "      <td>7.01694</td>\n",
       "      <td>-1.316940</td>\n",
       "    </tr>\n",
       "    <tr>\n",
       "      <td>2</td>\n",
       "      <td>3</td>\n",
       "      <td>5.91</td>\n",
       "      <td>7.307</td>\n",
       "      <td>-1.397</td>\n",
       "      <td>7.199967</td>\n",
       "      <td>-1.289967</td>\n",
       "      <td>7.103637</td>\n",
       "      <td>-1.193637</td>\n",
       "      <td>7.01694</td>\n",
       "      <td>-1.106940</td>\n",
       "    </tr>\n",
       "    <tr>\n",
       "      <td>3</td>\n",
       "      <td>4</td>\n",
       "      <td>6.40</td>\n",
       "      <td>7.307</td>\n",
       "      <td>-0.907</td>\n",
       "      <td>7.199967</td>\n",
       "      <td>-0.799967</td>\n",
       "      <td>7.103637</td>\n",
       "      <td>-0.703637</td>\n",
       "      <td>7.01694</td>\n",
       "      <td>-0.616940</td>\n",
       "    </tr>\n",
       "    <tr>\n",
       "      <td>4</td>\n",
       "      <td>5</td>\n",
       "      <td>6.80</td>\n",
       "      <td>7.307</td>\n",
       "      <td>-0.507</td>\n",
       "      <td>7.199967</td>\n",
       "      <td>-0.399967</td>\n",
       "      <td>7.103637</td>\n",
       "      <td>-0.303637</td>\n",
       "      <td>7.01694</td>\n",
       "      <td>-0.216940</td>\n",
       "    </tr>\n",
       "    <tr>\n",
       "      <td>5</td>\n",
       "      <td>6</td>\n",
       "      <td>7.05</td>\n",
       "      <td>7.307</td>\n",
       "      <td>-0.257</td>\n",
       "      <td>7.199967</td>\n",
       "      <td>-0.149967</td>\n",
       "      <td>7.103637</td>\n",
       "      <td>-0.053637</td>\n",
       "      <td>7.01694</td>\n",
       "      <td>0.033060</td>\n",
       "    </tr>\n",
       "    <tr>\n",
       "      <td>6</td>\n",
       "      <td>7</td>\n",
       "      <td>8.90</td>\n",
       "      <td>7.307</td>\n",
       "      <td>1.593</td>\n",
       "      <td>7.467550</td>\n",
       "      <td>1.432450</td>\n",
       "      <td>7.612045</td>\n",
       "      <td>1.287955</td>\n",
       "      <td>7.74209</td>\n",
       "      <td>1.157910</td>\n",
       "    </tr>\n",
       "    <tr>\n",
       "      <td>7</td>\n",
       "      <td>8</td>\n",
       "      <td>8.70</td>\n",
       "      <td>7.307</td>\n",
       "      <td>1.393</td>\n",
       "      <td>7.467550</td>\n",
       "      <td>1.232450</td>\n",
       "      <td>7.612045</td>\n",
       "      <td>1.087955</td>\n",
       "      <td>7.74209</td>\n",
       "      <td>0.957909</td>\n",
       "    </tr>\n",
       "    <tr>\n",
       "      <td>8</td>\n",
       "      <td>9</td>\n",
       "      <td>9.00</td>\n",
       "      <td>7.307</td>\n",
       "      <td>1.693</td>\n",
       "      <td>7.467550</td>\n",
       "      <td>1.532450</td>\n",
       "      <td>7.612045</td>\n",
       "      <td>1.387955</td>\n",
       "      <td>7.74209</td>\n",
       "      <td>1.257910</td>\n",
       "    </tr>\n",
       "    <tr>\n",
       "      <td>9</td>\n",
       "      <td>10</td>\n",
       "      <td>9.05</td>\n",
       "      <td>7.307</td>\n",
       "      <td>1.743</td>\n",
       "      <td>7.467550</td>\n",
       "      <td>1.582450</td>\n",
       "      <td>7.612045</td>\n",
       "      <td>1.437955</td>\n",
       "      <td>7.74209</td>\n",
       "      <td>1.307910</td>\n",
       "    </tr>\n",
       "  </tbody>\n",
       "</table>\n",
       "</div>"
      ],
      "text/plain": [
       "    x     y     f0  res_f0        f1    res_f1        f2    res_f2       f3  \\\n",
       "0   1  5.56  7.307  -1.747  7.199967 -1.639967  7.103637 -1.543637  7.01694   \n",
       "1   2  5.70  7.307  -1.607  7.199967 -1.499967  7.103637 -1.403637  7.01694   \n",
       "2   3  5.91  7.307  -1.397  7.199967 -1.289967  7.103637 -1.193637  7.01694   \n",
       "3   4  6.40  7.307  -0.907  7.199967 -0.799967  7.103637 -0.703637  7.01694   \n",
       "4   5  6.80  7.307  -0.507  7.199967 -0.399967  7.103637 -0.303637  7.01694   \n",
       "5   6  7.05  7.307  -0.257  7.199967 -0.149967  7.103637 -0.053637  7.01694   \n",
       "6   7  8.90  7.307   1.593  7.467550  1.432450  7.612045  1.287955  7.74209   \n",
       "7   8  8.70  7.307   1.393  7.467550  1.232450  7.612045  1.087955  7.74209   \n",
       "8   9  9.00  7.307   1.693  7.467550  1.532450  7.612045  1.387955  7.74209   \n",
       "9  10  9.05  7.307   1.743  7.467550  1.582450  7.612045  1.437955  7.74209   \n",
       "\n",
       "     res_f3  \n",
       "0 -1.456940  \n",
       "1 -1.316940  \n",
       "2 -1.106940  \n",
       "3 -0.616940  \n",
       "4 -0.216940  \n",
       "5  0.033060  \n",
       "6  1.157910  \n",
       "7  0.957909  \n",
       "8  1.257910  \n",
       "9  1.307910  "
      ]
     },
     "execution_count": 49,
     "metadata": {},
     "output_type": "execute_result"
    }
   ],
   "source": [
    "tree2 = calc_res_reg(tree2, \"f3\")\n",
    "tree2"
   ]
  },
  {
   "cell_type": "code",
   "execution_count": null,
   "metadata": {},
   "outputs": [],
   "source": []
  },
  {
   "cell_type": "markdown",
   "metadata": {},
   "source": [
    "## Let's check with GBRT in sklearn"
   ]
  },
  {
   "cell_type": "markdown",
   "metadata": {},
   "source": [
    "### 1. The output of the model"
   ]
  },
  {
   "cell_type": "code",
   "execution_count": 50,
   "metadata": {},
   "outputs": [],
   "source": [
    "reg_1 = gradient_boosting.GradientBoostingRegressor(n_estimators=3, max_depth=1)"
   ]
  },
  {
   "cell_type": "code",
   "execution_count": 51,
   "metadata": {},
   "outputs": [
    {
     "data": {
      "text/plain": [
       "GradientBoostingRegressor(alpha=0.9, criterion='friedman_mse', init=None,\n",
       "                          learning_rate=0.1, loss='ls', max_depth=1,\n",
       "                          max_features=None, max_leaf_nodes=None,\n",
       "                          min_impurity_decrease=0.0, min_impurity_split=None,\n",
       "                          min_samples_leaf=1, min_samples_split=2,\n",
       "                          min_weight_fraction_leaf=0.0, n_estimators=3,\n",
       "                          n_iter_no_change=None, presort='auto',\n",
       "                          random_state=None, subsample=1.0, tol=0.0001,\n",
       "                          validation_fraction=0.1, verbose=0, warm_start=False)"
      ]
     },
     "execution_count": 51,
     "metadata": {},
     "output_type": "execute_result"
    }
   ],
   "source": [
    "reg_1.fit(df2[[\"x\"]], df2[\"y\"])"
   ]
  },
  {
   "cell_type": "code",
   "execution_count": 52,
   "metadata": {},
   "outputs": [
    {
     "data": {
      "text/plain": [
       "array([7.01693967, 7.01693967, 7.01693967, 7.01693967, 7.01693967,\n",
       "       7.01693967, 7.7420905 , 7.7420905 , 7.7420905 , 7.7420905 ])"
      ]
     },
     "execution_count": 52,
     "metadata": {},
     "output_type": "execute_result"
    }
   ],
   "source": [
    "reg_1.predict(df2[[\"x\"]])"
   ]
  },
  {
   "cell_type": "markdown",
   "metadata": {},
   "source": [
    "### 2. Plot these trees"
   ]
  },
  {
   "cell_type": "code",
   "execution_count": 53,
   "metadata": {},
   "outputs": [
    {
     "data": {
      "text/plain": [
       "[Text(167.4, 163.07999999999998, 'X[0] <= 6.5\\nfriedman_mse = 1.911\\nsamples = 10\\nvalue = -0.0'),\n",
       " Text(83.7, 54.360000000000014, 'friedman_mse = 0.31\\nsamples = 6\\nvalue = -1.07'),\n",
       " Text(251.10000000000002, 54.360000000000014, 'friedman_mse = 0.018\\nsamples = 4\\nvalue = 1.605')]"
      ]
     },
     "execution_count": 53,
     "metadata": {},
     "output_type": "execute_result"
    },
    {
     "data": {
      "image/png": "[encoded data removed]",
      "text/plain": [
       "<Figure size 432x288 with 1 Axes>"
      ]
     },
     "metadata": {
      "needs_background": "light"
     },
     "output_type": "display_data"
    }
   ],
   "source": [
    "plot_tree(reg_1.estimators_[0][0]) # 1st tree (split at 6.5)"
   ]
  },
  {
   "cell_type": "code",
   "execution_count": 54,
   "metadata": {},
   "outputs": [
    {
     "data": {
      "text/plain": [
       "[Text(167.4, 163.07999999999998, 'X[0] <= 6.5\\nfriedman_mse = 1.585\\nsamples = 10\\nvalue = 0.0'),\n",
       " Text(83.7, 54.360000000000014, 'friedman_mse = 0.31\\nsamples = 6\\nvalue = -0.963'),\n",
       " Text(251.10000000000002, 54.360000000000014, 'friedman_mse = 0.018\\nsamples = 4\\nvalue = 1.445')]"
      ]
     },
     "execution_count": 54,
     "metadata": {},
     "output_type": "execute_result"
    },
    {
     "data": {
      "image/png": "[encoded data removed]",
      "text/plain": [
       "<Figure size 432x288 with 1 Axes>"
      ]
     },
     "metadata": {
      "needs_background": "light"
     },
     "output_type": "display_data"
    }
   ],
   "source": [
    "plot_tree(reg_1.estimators_[1][0]) # 2nd tree (split at 6.5)"
   ]
  },
  {
   "cell_type": "code",
   "execution_count": 55,
   "metadata": {},
   "outputs": [
    {
     "data": {
      "text/plain": [
       "[Text(167.4, 163.07999999999998, 'X[0] <= 6.5\\nfriedman_mse = 1.32\\nsamples = 10\\nvalue = 0.0'),\n",
       " Text(83.7, 54.360000000000014, 'friedman_mse = 0.31\\nsamples = 6\\nvalue = -0.867'),\n",
       " Text(251.10000000000002, 54.360000000000014, 'friedman_mse = 0.018\\nsamples = 4\\nvalue = 1.3')]"
      ]
     },
     "execution_count": 55,
     "metadata": {},
     "output_type": "execute_result"
    },
    {
     "data": {
      "image/png": "[encoded data removed]",
      "text/plain": [
       "<Figure size 432x288 with 1 Axes>"
      ]
     },
     "metadata": {
      "needs_background": "light"
     },
     "output_type": "display_data"
    }
   ],
   "source": [
    "plot_tree(reg_1.estimators_[2][0]) # 3rd tree (split at 6.5)"
   ]
  },
  {
   "cell_type": "code",
   "execution_count": null,
   "metadata": {},
   "outputs": [],
   "source": []
  }
 ],
 "metadata": {
  "kernelspec": {
   "display_name": "Python 3",
   "language": "python",
   "name": "python3"
  },
  "language_info": {
   "codemirror_mode": {
    "name": "ipython",
    "version": 3
   },
   "file_extension": ".py",
   "mimetype": "text/x-python",
   "name": "python",
   "nbconvert_exporter": "python",
   "pygments_lexer": "ipython3",
   "version": "3.7.4"
  }
 },
 "nbformat": 4,
 "nbformat_minor": 2
}
