{
 "cells": [
  {
   "cell_type": "code",
   "execution_count": 1,
   "metadata": {},
   "outputs": [],
   "source": [
    "import math\n",
    "import numpy as np\n",
    "import pandas as pd"
   ]
  },
  {
   "cell_type": "code",
   "execution_count": 2,
   "metadata": {},
   "outputs": [],
   "source": [
    "df = pd.DataFrame({\"x\":[1, 2, 3, 4, 5, 6, 7, 8, 9, 10], \n",
    "                   \"y\":[0, 0, 0, 1, 1, 0, 0, 0, 1, 1]})"
   ]
  },
  {
   "cell_type": "markdown",
   "metadata": {},
   "source": [
    "### Where to split"
   ]
  },
  {
   "cell_type": "markdown",
   "metadata": {},
   "source": [
    "Gain in purity:  \n",
    "Cls: $\\Delta$Gini  \n",
    "Reg: MSE"
   ]
  },
  {
   "cell_type": "code",
   "execution_count": 27,
   "metadata": {},
   "outputs": [],
   "source": [
    "def gini_impurity(proba):\n",
    "    \"\"\"Calculate the Gini impurity according to proba (y=1)\"\"\"\n",
    "    p1 = proba\n",
    "    p0 = 1 - proba\n",
    "    return p0 * (1 - p0) + p1 * (1 - p1)"
   ]
  },
  {
   "cell_type": "code",
   "execution_count": 28,
   "metadata": {},
   "outputs": [],
   "source": [
    "def gain_search(parent_node_value):\n",
    "    \"\"\"Search the best threshold with max gini gain\"\"\"\n",
    "    thres_ls = []\n",
    "    l_val_ls = []\n",
    "    r_val_ls = []\n",
    "    gain_ls = []\n",
    "    \n",
    "    for i in np.arange(0.5, 11.5, 1):\n",
    "        left = df[df[\"x\"] <= i][\"y\"]\n",
    "        right = df[df[\"x\"] > i][\"y\"]\n",
    "        \n",
    "        left_val = len(left) / 10 * gini_impurity(left.mean()) if len(left) > 0 else 0\n",
    "        right_val = len(right) / 10 * gini_impurity(right.mean()) if len(right) > 0 else 0\n",
    "        \n",
    "        gain = parent_node_value - left_val - right_val\n",
    "        \n",
    "        thres_ls.append(i)\n",
    "        l_val_ls.append(left_val)\n",
    "        r_val_ls.append(right_val)\n",
    "        gain_ls.append(gain)\n",
    "        \n",
    "    res = pd.DataFrame({\"Threshold\":thres_ls, \n",
    "                        \"Left\":l_val_ls, \n",
    "                        \"Right\":r_val_ls, \n",
    "                        \"Total Gain\":gain_ls})\n",
    "    \n",
    "    return res    "
   ]
  },
  {
   "cell_type": "markdown",
   "metadata": {},
   "source": [
    "### How to calculate leaf node value"
   ]
  },
  {
   "cell_type": "markdown",
   "metadata": {},
   "source": [
    "Cls: Majority class  \n",
    "Reg: Average value of the samples"
   ]
  },
  {
   "cell_type": "code",
   "execution_count": null,
   "metadata": {},
   "outputs": [],
   "source": []
  },
  {
   "cell_type": "markdown",
   "metadata": {},
   "source": [
    "### 0 - Root node"
   ]
  },
  {
   "cell_type": "code",
   "execution_count": 29,
   "metadata": {},
   "outputs": [
    {
     "data": {
      "text/plain": [
       "0.48"
      ]
     },
     "execution_count": 29,
     "metadata": {},
     "output_type": "execute_result"
    }
   ],
   "source": [
    "node_0_gini = gini_impurity(df[\"y\"].mean())\n",
    "node_0_gini"
   ]
  },
  {
   "cell_type": "code",
   "execution_count": 30,
   "metadata": {},
   "outputs": [
    {
     "data": {
      "text/html": [
       "<div>\n",
       "<style scoped>\n",
       "    .dataframe tbody tr th:only-of-type {\n",
       "        vertical-align: middle;\n",
       "    }\n",
       "\n",
       "    .dataframe tbody tr th {\n",
       "        vertical-align: top;\n",
       "    }\n",
       "\n",
       "    .dataframe thead th {\n",
       "        text-align: right;\n",
       "    }\n",
       "</style>\n",
       "<table border=\"1\" class=\"dataframe\">\n",
       "  <thead>\n",
       "    <tr style=\"text-align: right;\">\n",
       "      <th></th>\n",
       "      <th>Threshold</th>\n",
       "      <th>Left</th>\n",
       "      <th>Right</th>\n",
       "      <th>Total Gain</th>\n",
       "    </tr>\n",
       "  </thead>\n",
       "  <tbody>\n",
       "    <tr>\n",
       "      <td>0</td>\n",
       "      <td>0.5</td>\n",
       "      <td>0.000000</td>\n",
       "      <td>0.480000</td>\n",
       "      <td>0.000000</td>\n",
       "    </tr>\n",
       "    <tr>\n",
       "      <td>1</td>\n",
       "      <td>1.5</td>\n",
       "      <td>0.000000</td>\n",
       "      <td>0.444444</td>\n",
       "      <td>0.035556</td>\n",
       "    </tr>\n",
       "    <tr>\n",
       "      <td>2</td>\n",
       "      <td>2.5</td>\n",
       "      <td>0.000000</td>\n",
       "      <td>0.400000</td>\n",
       "      <td>0.080000</td>\n",
       "    </tr>\n",
       "    <tr>\n",
       "      <td>3</td>\n",
       "      <td>3.5</td>\n",
       "      <td>0.000000</td>\n",
       "      <td>0.342857</td>\n",
       "      <td>0.137143</td>\n",
       "    </tr>\n",
       "    <tr>\n",
       "      <td>4</td>\n",
       "      <td>4.5</td>\n",
       "      <td>0.150000</td>\n",
       "      <td>0.300000</td>\n",
       "      <td>0.030000</td>\n",
       "    </tr>\n",
       "    <tr>\n",
       "      <td>5</td>\n",
       "      <td>5.5</td>\n",
       "      <td>0.240000</td>\n",
       "      <td>0.240000</td>\n",
       "      <td>0.000000</td>\n",
       "    </tr>\n",
       "    <tr>\n",
       "      <td>6</td>\n",
       "      <td>6.5</td>\n",
       "      <td>0.266667</td>\n",
       "      <td>0.200000</td>\n",
       "      <td>0.013333</td>\n",
       "    </tr>\n",
       "    <tr>\n",
       "      <td>7</td>\n",
       "      <td>7.5</td>\n",
       "      <td>0.285714</td>\n",
       "      <td>0.133333</td>\n",
       "      <td>0.060952</td>\n",
       "    </tr>\n",
       "    <tr>\n",
       "      <td>8</td>\n",
       "      <td>8.5</td>\n",
       "      <td>0.300000</td>\n",
       "      <td>0.000000</td>\n",
       "      <td>0.180000</td>\n",
       "    </tr>\n",
       "    <tr>\n",
       "      <td>9</td>\n",
       "      <td>9.5</td>\n",
       "      <td>0.400000</td>\n",
       "      <td>0.000000</td>\n",
       "      <td>0.080000</td>\n",
       "    </tr>\n",
       "    <tr>\n",
       "      <td>10</td>\n",
       "      <td>10.5</td>\n",
       "      <td>0.480000</td>\n",
       "      <td>0.000000</td>\n",
       "      <td>0.000000</td>\n",
       "    </tr>\n",
       "  </tbody>\n",
       "</table>\n",
       "</div>"
      ],
      "text/plain": [
       "    Threshold      Left     Right  Total Gain\n",
       "0         0.5  0.000000  0.480000    0.000000\n",
       "1         1.5  0.000000  0.444444    0.035556\n",
       "2         2.5  0.000000  0.400000    0.080000\n",
       "3         3.5  0.000000  0.342857    0.137143\n",
       "4         4.5  0.150000  0.300000    0.030000\n",
       "5         5.5  0.240000  0.240000    0.000000\n",
       "6         6.5  0.266667  0.200000    0.013333\n",
       "7         7.5  0.285714  0.133333    0.060952\n",
       "8         8.5  0.300000  0.000000    0.180000\n",
       "9         9.5  0.400000  0.000000    0.080000\n",
       "10       10.5  0.480000  0.000000    0.000000"
      ]
     },
     "execution_count": 30,
     "metadata": {},
     "output_type": "execute_result"
    }
   ],
   "source": [
    "gain_search(node_0_gini)"
   ]
  },
  {
   "cell_type": "markdown",
   "metadata": {},
   "source": [
    "As we can see, when the threshold for **x** is 8.5, we got the highest gain, which is 0.18.  \n",
    "When **x** < 8.5, the left majority is 0, while the right majority is 1.  \n",
    "\n",
    "Therefore, our first tree would be:  \n",
    "```\n",
    "if x <=8.5:  \n",
    "    y = 0  \n",
    "else:  \n",
    "    y = 1  \n",
    "```"
   ]
  },
  {
   "cell_type": "code",
   "execution_count": null,
   "metadata": {},
   "outputs": [],
   "source": []
  },
  {
   "cell_type": "code",
   "execution_count": null,
   "metadata": {},
   "outputs": [],
   "source": []
  },
  {
   "cell_type": "markdown",
   "metadata": {},
   "source": [
    "### Helper functions"
   ]
  },
  {
   "cell_type": "code",
   "execution_count": 70,
   "metadata": {},
   "outputs": [],
   "source": [
    "def calc_res(df, f_col_name):\n",
    "    \"\"\"Convert F(x) to proba & calculate residual\"\"\"\n",
    "    df[\"%s_proba\"%f_col_name] = 1 / (1 + np.exp(-1 * df[f_col_name])) # F(x) -> proba\n",
    "    df[\"res_%s\"%f_col_name] = df[\"y\"] - df[\"%s_proba\"%f_col_name] # y - F(x)\n",
    "    return df"
   ]
  },
  {
   "cell_type": "markdown",
   "metadata": {},
   "source": [
    "### Initialization"
   ]
  },
  {
   "cell_type": "code",
   "execution_count": 76,
   "metadata": {},
   "outputs": [
    {
     "data": {
      "text/plain": [
       "-0.40546510810816444"
      ]
     },
     "execution_count": 76,
     "metadata": {},
     "output_type": "execute_result"
    }
   ],
   "source": [
    "f_0 = math.log((df[\"y\"] == 1).sum() / (df[\"y\"] == 0).sum())\n",
    "f_0"
   ]
  },
  {
   "cell_type": "code",
   "execution_count": 77,
   "metadata": {},
   "outputs": [],
   "source": [
    "tree = df.copy()"
   ]
  },
  {
   "cell_type": "code",
   "execution_count": 78,
   "metadata": {},
   "outputs": [],
   "source": [
    "tree[\"f0\"] = f_0\n",
    "tree = calc_res(tree, \"f0\")"
   ]
  },
  {
   "cell_type": "code",
   "execution_count": 79,
   "metadata": {},
   "outputs": [
    {
     "data": {
      "text/html": [
       "<div>\n",
       "<style scoped>\n",
       "    .dataframe tbody tr th:only-of-type {\n",
       "        vertical-align: middle;\n",
       "    }\n",
       "\n",
       "    .dataframe tbody tr th {\n",
       "        vertical-align: top;\n",
       "    }\n",
       "\n",
       "    .dataframe thead th {\n",
       "        text-align: right;\n",
       "    }\n",
       "</style>\n",
       "<table border=\"1\" class=\"dataframe\">\n",
       "  <thead>\n",
       "    <tr style=\"text-align: right;\">\n",
       "      <th></th>\n",
       "      <th>x</th>\n",
       "      <th>y</th>\n",
       "      <th>f0</th>\n",
       "      <th>f0_proba</th>\n",
       "      <th>res_f0</th>\n",
       "    </tr>\n",
       "  </thead>\n",
       "  <tbody>\n",
       "    <tr>\n",
       "      <td>0</td>\n",
       "      <td>1</td>\n",
       "      <td>0</td>\n",
       "      <td>-0.405465</td>\n",
       "      <td>0.4</td>\n",
       "      <td>-0.4</td>\n",
       "    </tr>\n",
       "    <tr>\n",
       "      <td>1</td>\n",
       "      <td>2</td>\n",
       "      <td>0</td>\n",
       "      <td>-0.405465</td>\n",
       "      <td>0.4</td>\n",
       "      <td>-0.4</td>\n",
       "    </tr>\n",
       "    <tr>\n",
       "      <td>2</td>\n",
       "      <td>3</td>\n",
       "      <td>0</td>\n",
       "      <td>-0.405465</td>\n",
       "      <td>0.4</td>\n",
       "      <td>-0.4</td>\n",
       "    </tr>\n",
       "    <tr>\n",
       "      <td>3</td>\n",
       "      <td>4</td>\n",
       "      <td>1</td>\n",
       "      <td>-0.405465</td>\n",
       "      <td>0.4</td>\n",
       "      <td>0.6</td>\n",
       "    </tr>\n",
       "    <tr>\n",
       "      <td>4</td>\n",
       "      <td>5</td>\n",
       "      <td>1</td>\n",
       "      <td>-0.405465</td>\n",
       "      <td>0.4</td>\n",
       "      <td>0.6</td>\n",
       "    </tr>\n",
       "    <tr>\n",
       "      <td>5</td>\n",
       "      <td>6</td>\n",
       "      <td>0</td>\n",
       "      <td>-0.405465</td>\n",
       "      <td>0.4</td>\n",
       "      <td>-0.4</td>\n",
       "    </tr>\n",
       "    <tr>\n",
       "      <td>6</td>\n",
       "      <td>7</td>\n",
       "      <td>0</td>\n",
       "      <td>-0.405465</td>\n",
       "      <td>0.4</td>\n",
       "      <td>-0.4</td>\n",
       "    </tr>\n",
       "    <tr>\n",
       "      <td>7</td>\n",
       "      <td>8</td>\n",
       "      <td>0</td>\n",
       "      <td>-0.405465</td>\n",
       "      <td>0.4</td>\n",
       "      <td>-0.4</td>\n",
       "    </tr>\n",
       "    <tr>\n",
       "      <td>8</td>\n",
       "      <td>9</td>\n",
       "      <td>1</td>\n",
       "      <td>-0.405465</td>\n",
       "      <td>0.4</td>\n",
       "      <td>0.6</td>\n",
       "    </tr>\n",
       "    <tr>\n",
       "      <td>9</td>\n",
       "      <td>10</td>\n",
       "      <td>1</td>\n",
       "      <td>-0.405465</td>\n",
       "      <td>0.4</td>\n",
       "      <td>0.6</td>\n",
       "    </tr>\n",
       "  </tbody>\n",
       "</table>\n",
       "</div>"
      ],
      "text/plain": [
       "    x  y        f0  f0_proba  res_f0\n",
       "0   1  0 -0.405465       0.4    -0.4\n",
       "1   2  0 -0.405465       0.4    -0.4\n",
       "2   3  0 -0.405465       0.4    -0.4\n",
       "3   4  1 -0.405465       0.4     0.6\n",
       "4   5  1 -0.405465       0.4     0.6\n",
       "5   6  0 -0.405465       0.4    -0.4\n",
       "6   7  0 -0.405465       0.4    -0.4\n",
       "7   8  0 -0.405465       0.4    -0.4\n",
       "8   9  1 -0.405465       0.4     0.6\n",
       "9  10  1 -0.405465       0.4     0.6"
      ]
     },
     "execution_count": 79,
     "metadata": {},
     "output_type": "execute_result"
    }
   ],
   "source": [
    "tree"
   ]
  },
  {
   "cell_type": "markdown",
   "metadata": {},
   "source": [
    "### Where to split"
   ]
  },
  {
   "cell_type": "code",
   "execution_count": 201,
   "metadata": {},
   "outputs": [],
   "source": [
    "def se(thres, target_col):\n",
    "    \"\"\"Calculate Square Error to select the best split point\"\"\"\n",
    "    left = tree[tree[\"x\"] <= thres][target_col]\n",
    "    right = tree[tree[\"x\"] > thres][target_col]\n",
    "    \n",
    "    left_se = (np.zeros(len(left)) - np.repeat(left.mean(), len(left))) ** 2\n",
    "    right_se = (np.ones(len(right)) - np.repeat(right.mean(), len(right))) ** 2\n",
    "    \n",
    "    return np.sum(left_se) + np.sum(right_se)"
   ]
  },
  {
   "cell_type": "code",
   "execution_count": 204,
   "metadata": {},
   "outputs": [
    {
     "name": "stdout",
     "output_type": "stream",
     "text": [
      "0.5 3.5999999999999996\n",
      "1.5 2.777777777777778\n",
      "2.5 2.0\n",
      "3.5 1.2857142857142858\n",
      "4.5 1.75\n",
      "5.5 2.6\n",
      "6.5 1.6666666666666667\n",
      "7.5 0.9047619047619048\n",
      "8.5 0.5\n",
      "9.5 1.0\n",
      "10.5 1.6000000000000005\n"
     ]
    }
   ],
   "source": [
    "for i in np.arange(0.5, 11.5, 1):\n",
    "    print(i, se(i, \"y\"))"
   ]
  },
  {
   "cell_type": "code",
   "execution_count": null,
   "metadata": {},
   "outputs": [],
   "source": []
  },
  {
   "cell_type": "code",
   "execution_count": null,
   "metadata": {},
   "outputs": [],
   "source": []
  },
  {
   "cell_type": "code",
   "execution_count": 159,
   "metadata": {},
   "outputs": [
    {
     "name": "stdout",
     "output_type": "stream",
     "text": [
      "0.5 3.5999999999999996\n",
      "1.5 2.777777777777778\n",
      "2.5 2.0\n",
      "3.5 1.2857142857142858\n",
      "4.5 1.75\n",
      "5.5 2.6\n",
      "6.5 1.6666666666666667\n",
      "7.5 0.9047619047619048\n",
      "8.5 0.5\n",
      "9.5 1.0\n",
      "10.5 1.6000000000000005\n"
     ]
    }
   ],
   "source": [
    "for i in np.arange(0.5, 11.5, 1):\n",
    "    print(i, se(i, \"y\"))"
   ]
  },
  {
   "cell_type": "markdown",
   "metadata": {},
   "source": [
    "Therefore, the best threshold would be 8.5."
   ]
  },
  {
   "cell_type": "markdown",
   "metadata": {},
   "source": [
    "### Calculate leaf node value"
   ]
  },
  {
   "cell_type": "code",
   "execution_count": 82,
   "metadata": {},
   "outputs": [],
   "source": [
    "def leaf_val(df, res_col_name, thres):\n",
    "    \"\"\"Calculate leaf node value (Newton-Raphson method)\"\"\"\n",
    "    left_numerator  = df[df[\"x\"] <= thres][res_col_name].sum()\n",
    "    left_denominator = (df[df[\"x\"] <= thres].apply(\n",
    "        lambda r: (r[\"y\"] - r[res_col_name]) * (1 - r[\"y\"] + r[res_col_name]), axis=1)).sum()\n",
    "    \n",
    "    right_numerator  = df[df[\"x\"] > thres][res_col_name].sum()\n",
    "    right_denominator = (df[df[\"x\"] > thres].apply(\n",
    "        lambda r: (r[\"y\"] - r[res_col_name]) * (1 - r[\"y\"] + r[res_col_name]), axis=1)).sum()\n",
    "    \n",
    "    left_leaf_value = left_numerator / left_denominator\n",
    "    right_leaf_value = right_numerator / right_denominator\n",
    "    \n",
    "    return left_leaf_value, right_leaf_value"
   ]
  },
  {
   "cell_type": "code",
   "execution_count": 84,
   "metadata": {},
   "outputs": [
    {
     "name": "stdout",
     "output_type": "stream",
     "text": [
      "Left value: -0.6250000000000001\n",
      "Right value: 2.5\n"
     ]
    }
   ],
   "source": [
    "left_leaf_value, right_leaf_value = leaf_val(tree, \"res_f0\", 8.5)\n",
    "print(\"Left value:\", left_leaf_value)\n",
    "print(\"Right value:\", right_leaf_value)"
   ]
  },
  {
   "cell_type": "markdown",
   "metadata": {},
   "source": [
    "### Update F(x)"
   ]
  },
  {
   "cell_type": "markdown",
   "metadata": {},
   "source": [
    "Let's say we got an lr = 0.1"
   ]
  },
  {
   "cell_type": "code",
   "execution_count": 85,
   "metadata": {},
   "outputs": [],
   "source": [
    "lr = 0.1"
   ]
  },
  {
   "cell_type": "code",
   "execution_count": 86,
   "metadata": {},
   "outputs": [],
   "source": [
    "tree[\"f1\"] = np.where(tree[\"x\"] <= 8.5, \n",
    "                      tree[\"f0\"] + left_leaf_value * lr, \n",
    "                      tree[\"f0\"] + right_leaf_value * lr)"
   ]
  },
  {
   "cell_type": "code",
   "execution_count": 87,
   "metadata": {},
   "outputs": [
    {
     "data": {
      "text/html": [
       "<div>\n",
       "<style scoped>\n",
       "    .dataframe tbody tr th:only-of-type {\n",
       "        vertical-align: middle;\n",
       "    }\n",
       "\n",
       "    .dataframe tbody tr th {\n",
       "        vertical-align: top;\n",
       "    }\n",
       "\n",
       "    .dataframe thead th {\n",
       "        text-align: right;\n",
       "    }\n",
       "</style>\n",
       "<table border=\"1\" class=\"dataframe\">\n",
       "  <thead>\n",
       "    <tr style=\"text-align: right;\">\n",
       "      <th></th>\n",
       "      <th>x</th>\n",
       "      <th>y</th>\n",
       "      <th>f0</th>\n",
       "      <th>f0_proba</th>\n",
       "      <th>res_f0</th>\n",
       "      <th>f1</th>\n",
       "    </tr>\n",
       "  </thead>\n",
       "  <tbody>\n",
       "    <tr>\n",
       "      <td>0</td>\n",
       "      <td>1</td>\n",
       "      <td>0</td>\n",
       "      <td>-0.405465</td>\n",
       "      <td>0.4</td>\n",
       "      <td>-0.4</td>\n",
       "      <td>-0.467965</td>\n",
       "    </tr>\n",
       "    <tr>\n",
       "      <td>1</td>\n",
       "      <td>2</td>\n",
       "      <td>0</td>\n",
       "      <td>-0.405465</td>\n",
       "      <td>0.4</td>\n",
       "      <td>-0.4</td>\n",
       "      <td>-0.467965</td>\n",
       "    </tr>\n",
       "    <tr>\n",
       "      <td>2</td>\n",
       "      <td>3</td>\n",
       "      <td>0</td>\n",
       "      <td>-0.405465</td>\n",
       "      <td>0.4</td>\n",
       "      <td>-0.4</td>\n",
       "      <td>-0.467965</td>\n",
       "    </tr>\n",
       "    <tr>\n",
       "      <td>3</td>\n",
       "      <td>4</td>\n",
       "      <td>1</td>\n",
       "      <td>-0.405465</td>\n",
       "      <td>0.4</td>\n",
       "      <td>0.6</td>\n",
       "      <td>-0.467965</td>\n",
       "    </tr>\n",
       "    <tr>\n",
       "      <td>4</td>\n",
       "      <td>5</td>\n",
       "      <td>1</td>\n",
       "      <td>-0.405465</td>\n",
       "      <td>0.4</td>\n",
       "      <td>0.6</td>\n",
       "      <td>-0.467965</td>\n",
       "    </tr>\n",
       "    <tr>\n",
       "      <td>5</td>\n",
       "      <td>6</td>\n",
       "      <td>0</td>\n",
       "      <td>-0.405465</td>\n",
       "      <td>0.4</td>\n",
       "      <td>-0.4</td>\n",
       "      <td>-0.467965</td>\n",
       "    </tr>\n",
       "    <tr>\n",
       "      <td>6</td>\n",
       "      <td>7</td>\n",
       "      <td>0</td>\n",
       "      <td>-0.405465</td>\n",
       "      <td>0.4</td>\n",
       "      <td>-0.4</td>\n",
       "      <td>-0.467965</td>\n",
       "    </tr>\n",
       "    <tr>\n",
       "      <td>7</td>\n",
       "      <td>8</td>\n",
       "      <td>0</td>\n",
       "      <td>-0.405465</td>\n",
       "      <td>0.4</td>\n",
       "      <td>-0.4</td>\n",
       "      <td>-0.467965</td>\n",
       "    </tr>\n",
       "    <tr>\n",
       "      <td>8</td>\n",
       "      <td>9</td>\n",
       "      <td>1</td>\n",
       "      <td>-0.405465</td>\n",
       "      <td>0.4</td>\n",
       "      <td>0.6</td>\n",
       "      <td>-0.155465</td>\n",
       "    </tr>\n",
       "    <tr>\n",
       "      <td>9</td>\n",
       "      <td>10</td>\n",
       "      <td>1</td>\n",
       "      <td>-0.405465</td>\n",
       "      <td>0.4</td>\n",
       "      <td>0.6</td>\n",
       "      <td>-0.155465</td>\n",
       "    </tr>\n",
       "  </tbody>\n",
       "</table>\n",
       "</div>"
      ],
      "text/plain": [
       "    x  y        f0  f0_proba  res_f0        f1\n",
       "0   1  0 -0.405465       0.4    -0.4 -0.467965\n",
       "1   2  0 -0.405465       0.4    -0.4 -0.467965\n",
       "2   3  0 -0.405465       0.4    -0.4 -0.467965\n",
       "3   4  1 -0.405465       0.4     0.6 -0.467965\n",
       "4   5  1 -0.405465       0.4     0.6 -0.467965\n",
       "5   6  0 -0.405465       0.4    -0.4 -0.467965\n",
       "6   7  0 -0.405465       0.4    -0.4 -0.467965\n",
       "7   8  0 -0.405465       0.4    -0.4 -0.467965\n",
       "8   9  1 -0.405465       0.4     0.6 -0.155465\n",
       "9  10  1 -0.405465       0.4     0.6 -0.155465"
      ]
     },
     "execution_count": 87,
     "metadata": {},
     "output_type": "execute_result"
    }
   ],
   "source": [
    "tree"
   ]
  },
  {
   "cell_type": "markdown",
   "metadata": {},
   "source": [
    "### Repeat"
   ]
  },
  {
   "cell_type": "code",
   "execution_count": 88,
   "metadata": {},
   "outputs": [],
   "source": [
    "tree = calc_res(tree, \"f1\")"
   ]
  },
  {
   "cell_type": "code",
   "execution_count": 89,
   "metadata": {},
   "outputs": [
    {
     "data": {
      "text/html": [
       "<div>\n",
       "<style scoped>\n",
       "    .dataframe tbody tr th:only-of-type {\n",
       "        vertical-align: middle;\n",
       "    }\n",
       "\n",
       "    .dataframe tbody tr th {\n",
       "        vertical-align: top;\n",
       "    }\n",
       "\n",
       "    .dataframe thead th {\n",
       "        text-align: right;\n",
       "    }\n",
       "</style>\n",
       "<table border=\"1\" class=\"dataframe\">\n",
       "  <thead>\n",
       "    <tr style=\"text-align: right;\">\n",
       "      <th></th>\n",
       "      <th>x</th>\n",
       "      <th>y</th>\n",
       "      <th>f0</th>\n",
       "      <th>f0_proba</th>\n",
       "      <th>res_f0</th>\n",
       "      <th>f1</th>\n",
       "      <th>f1_proba</th>\n",
       "      <th>res_f1</th>\n",
       "    </tr>\n",
       "  </thead>\n",
       "  <tbody>\n",
       "    <tr>\n",
       "      <td>0</td>\n",
       "      <td>1</td>\n",
       "      <td>0</td>\n",
       "      <td>-0.405465</td>\n",
       "      <td>0.4</td>\n",
       "      <td>-0.4</td>\n",
       "      <td>-0.467965</td>\n",
       "      <td>0.385098</td>\n",
       "      <td>-0.385098</td>\n",
       "    </tr>\n",
       "    <tr>\n",
       "      <td>1</td>\n",
       "      <td>2</td>\n",
       "      <td>0</td>\n",
       "      <td>-0.405465</td>\n",
       "      <td>0.4</td>\n",
       "      <td>-0.4</td>\n",
       "      <td>-0.467965</td>\n",
       "      <td>0.385098</td>\n",
       "      <td>-0.385098</td>\n",
       "    </tr>\n",
       "    <tr>\n",
       "      <td>2</td>\n",
       "      <td>3</td>\n",
       "      <td>0</td>\n",
       "      <td>-0.405465</td>\n",
       "      <td>0.4</td>\n",
       "      <td>-0.4</td>\n",
       "      <td>-0.467965</td>\n",
       "      <td>0.385098</td>\n",
       "      <td>-0.385098</td>\n",
       "    </tr>\n",
       "    <tr>\n",
       "      <td>3</td>\n",
       "      <td>4</td>\n",
       "      <td>1</td>\n",
       "      <td>-0.405465</td>\n",
       "      <td>0.4</td>\n",
       "      <td>0.6</td>\n",
       "      <td>-0.467965</td>\n",
       "      <td>0.385098</td>\n",
       "      <td>0.614902</td>\n",
       "    </tr>\n",
       "    <tr>\n",
       "      <td>4</td>\n",
       "      <td>5</td>\n",
       "      <td>1</td>\n",
       "      <td>-0.405465</td>\n",
       "      <td>0.4</td>\n",
       "      <td>0.6</td>\n",
       "      <td>-0.467965</td>\n",
       "      <td>0.385098</td>\n",
       "      <td>0.614902</td>\n",
       "    </tr>\n",
       "    <tr>\n",
       "      <td>5</td>\n",
       "      <td>6</td>\n",
       "      <td>0</td>\n",
       "      <td>-0.405465</td>\n",
       "      <td>0.4</td>\n",
       "      <td>-0.4</td>\n",
       "      <td>-0.467965</td>\n",
       "      <td>0.385098</td>\n",
       "      <td>-0.385098</td>\n",
       "    </tr>\n",
       "    <tr>\n",
       "      <td>6</td>\n",
       "      <td>7</td>\n",
       "      <td>0</td>\n",
       "      <td>-0.405465</td>\n",
       "      <td>0.4</td>\n",
       "      <td>-0.4</td>\n",
       "      <td>-0.467965</td>\n",
       "      <td>0.385098</td>\n",
       "      <td>-0.385098</td>\n",
       "    </tr>\n",
       "    <tr>\n",
       "      <td>7</td>\n",
       "      <td>8</td>\n",
       "      <td>0</td>\n",
       "      <td>-0.405465</td>\n",
       "      <td>0.4</td>\n",
       "      <td>-0.4</td>\n",
       "      <td>-0.467965</td>\n",
       "      <td>0.385098</td>\n",
       "      <td>-0.385098</td>\n",
       "    </tr>\n",
       "    <tr>\n",
       "      <td>8</td>\n",
       "      <td>9</td>\n",
       "      <td>1</td>\n",
       "      <td>-0.405465</td>\n",
       "      <td>0.4</td>\n",
       "      <td>0.6</td>\n",
       "      <td>-0.155465</td>\n",
       "      <td>0.461212</td>\n",
       "      <td>0.538788</td>\n",
       "    </tr>\n",
       "    <tr>\n",
       "      <td>9</td>\n",
       "      <td>10</td>\n",
       "      <td>1</td>\n",
       "      <td>-0.405465</td>\n",
       "      <td>0.4</td>\n",
       "      <td>0.6</td>\n",
       "      <td>-0.155465</td>\n",
       "      <td>0.461212</td>\n",
       "      <td>0.538788</td>\n",
       "    </tr>\n",
       "  </tbody>\n",
       "</table>\n",
       "</div>"
      ],
      "text/plain": [
       "    x  y        f0  f0_proba  res_f0        f1  f1_proba    res_f1\n",
       "0   1  0 -0.405465       0.4    -0.4 -0.467965  0.385098 -0.385098\n",
       "1   2  0 -0.405465       0.4    -0.4 -0.467965  0.385098 -0.385098\n",
       "2   3  0 -0.405465       0.4    -0.4 -0.467965  0.385098 -0.385098\n",
       "3   4  1 -0.405465       0.4     0.6 -0.467965  0.385098  0.614902\n",
       "4   5  1 -0.405465       0.4     0.6 -0.467965  0.385098  0.614902\n",
       "5   6  0 -0.405465       0.4    -0.4 -0.467965  0.385098 -0.385098\n",
       "6   7  0 -0.405465       0.4    -0.4 -0.467965  0.385098 -0.385098\n",
       "7   8  0 -0.405465       0.4    -0.4 -0.467965  0.385098 -0.385098\n",
       "8   9  1 -0.405465       0.4     0.6 -0.155465  0.461212  0.538788\n",
       "9  10  1 -0.405465       0.4     0.6 -0.155465  0.461212  0.538788"
      ]
     },
     "execution_count": 89,
     "metadata": {},
     "output_type": "execute_result"
    }
   ],
   "source": [
    "tree"
   ]
  },
  {
   "cell_type": "code",
   "execution_count": 103,
   "metadata": {},
   "outputs": [
    {
     "name": "stdout",
     "output_type": "stream",
     "text": [
      "Left value: -0.5705211093125406\n",
      "Right value: 2.1682011746071073\n"
     ]
    }
   ],
   "source": [
    "left_leaf_value, right_leaf_value = leaf_val(tree, \"res_f1\", 8.5)\n",
    "print(\"Left value:\", left_leaf_value)\n",
    "print(\"Right value:\", right_leaf_value)"
   ]
  },
  {
   "cell_type": "code",
   "execution_count": 104,
   "metadata": {},
   "outputs": [],
   "source": [
    "tree[\"f2\"] = np.where(tree[\"x\"] <= 8.5, \n",
    "                      tree[\"f1\"] + left_leaf_value * lr, \n",
    "                      tree[\"f1\"] + right_leaf_value * lr)"
   ]
  },
  {
   "cell_type": "code",
   "execution_count": 105,
   "metadata": {},
   "outputs": [
    {
     "data": {
      "text/html": [
       "<div>\n",
       "<style scoped>\n",
       "    .dataframe tbody tr th:only-of-type {\n",
       "        vertical-align: middle;\n",
       "    }\n",
       "\n",
       "    .dataframe tbody tr th {\n",
       "        vertical-align: top;\n",
       "    }\n",
       "\n",
       "    .dataframe thead th {\n",
       "        text-align: right;\n",
       "    }\n",
       "</style>\n",
       "<table border=\"1\" class=\"dataframe\">\n",
       "  <thead>\n",
       "    <tr style=\"text-align: right;\">\n",
       "      <th></th>\n",
       "      <th>x</th>\n",
       "      <th>y</th>\n",
       "      <th>f0</th>\n",
       "      <th>f0_proba</th>\n",
       "      <th>res_f0</th>\n",
       "      <th>f1</th>\n",
       "      <th>f1_proba</th>\n",
       "      <th>res_f1</th>\n",
       "      <th>f2</th>\n",
       "    </tr>\n",
       "  </thead>\n",
       "  <tbody>\n",
       "    <tr>\n",
       "      <td>0</td>\n",
       "      <td>1</td>\n",
       "      <td>0</td>\n",
       "      <td>-0.405465</td>\n",
       "      <td>0.4</td>\n",
       "      <td>-0.4</td>\n",
       "      <td>-0.467965</td>\n",
       "      <td>0.385098</td>\n",
       "      <td>-0.385098</td>\n",
       "      <td>-0.525017</td>\n",
       "    </tr>\n",
       "    <tr>\n",
       "      <td>1</td>\n",
       "      <td>2</td>\n",
       "      <td>0</td>\n",
       "      <td>-0.405465</td>\n",
       "      <td>0.4</td>\n",
       "      <td>-0.4</td>\n",
       "      <td>-0.467965</td>\n",
       "      <td>0.385098</td>\n",
       "      <td>-0.385098</td>\n",
       "      <td>-0.525017</td>\n",
       "    </tr>\n",
       "    <tr>\n",
       "      <td>2</td>\n",
       "      <td>3</td>\n",
       "      <td>0</td>\n",
       "      <td>-0.405465</td>\n",
       "      <td>0.4</td>\n",
       "      <td>-0.4</td>\n",
       "      <td>-0.467965</td>\n",
       "      <td>0.385098</td>\n",
       "      <td>-0.385098</td>\n",
       "      <td>-0.525017</td>\n",
       "    </tr>\n",
       "    <tr>\n",
       "      <td>3</td>\n",
       "      <td>4</td>\n",
       "      <td>1</td>\n",
       "      <td>-0.405465</td>\n",
       "      <td>0.4</td>\n",
       "      <td>0.6</td>\n",
       "      <td>-0.467965</td>\n",
       "      <td>0.385098</td>\n",
       "      <td>0.614902</td>\n",
       "      <td>-0.525017</td>\n",
       "    </tr>\n",
       "    <tr>\n",
       "      <td>4</td>\n",
       "      <td>5</td>\n",
       "      <td>1</td>\n",
       "      <td>-0.405465</td>\n",
       "      <td>0.4</td>\n",
       "      <td>0.6</td>\n",
       "      <td>-0.467965</td>\n",
       "      <td>0.385098</td>\n",
       "      <td>0.614902</td>\n",
       "      <td>-0.525017</td>\n",
       "    </tr>\n",
       "    <tr>\n",
       "      <td>5</td>\n",
       "      <td>6</td>\n",
       "      <td>0</td>\n",
       "      <td>-0.405465</td>\n",
       "      <td>0.4</td>\n",
       "      <td>-0.4</td>\n",
       "      <td>-0.467965</td>\n",
       "      <td>0.385098</td>\n",
       "      <td>-0.385098</td>\n",
       "      <td>-0.525017</td>\n",
       "    </tr>\n",
       "    <tr>\n",
       "      <td>6</td>\n",
       "      <td>7</td>\n",
       "      <td>0</td>\n",
       "      <td>-0.405465</td>\n",
       "      <td>0.4</td>\n",
       "      <td>-0.4</td>\n",
       "      <td>-0.467965</td>\n",
       "      <td>0.385098</td>\n",
       "      <td>-0.385098</td>\n",
       "      <td>-0.525017</td>\n",
       "    </tr>\n",
       "    <tr>\n",
       "      <td>7</td>\n",
       "      <td>8</td>\n",
       "      <td>0</td>\n",
       "      <td>-0.405465</td>\n",
       "      <td>0.4</td>\n",
       "      <td>-0.4</td>\n",
       "      <td>-0.467965</td>\n",
       "      <td>0.385098</td>\n",
       "      <td>-0.385098</td>\n",
       "      <td>-0.525017</td>\n",
       "    </tr>\n",
       "    <tr>\n",
       "      <td>8</td>\n",
       "      <td>9</td>\n",
       "      <td>1</td>\n",
       "      <td>-0.405465</td>\n",
       "      <td>0.4</td>\n",
       "      <td>0.6</td>\n",
       "      <td>-0.155465</td>\n",
       "      <td>0.461212</td>\n",
       "      <td>0.538788</td>\n",
       "      <td>0.061355</td>\n",
       "    </tr>\n",
       "    <tr>\n",
       "      <td>9</td>\n",
       "      <td>10</td>\n",
       "      <td>1</td>\n",
       "      <td>-0.405465</td>\n",
       "      <td>0.4</td>\n",
       "      <td>0.6</td>\n",
       "      <td>-0.155465</td>\n",
       "      <td>0.461212</td>\n",
       "      <td>0.538788</td>\n",
       "      <td>0.061355</td>\n",
       "    </tr>\n",
       "  </tbody>\n",
       "</table>\n",
       "</div>"
      ],
      "text/plain": [
       "    x  y        f0  f0_proba  res_f0        f1  f1_proba    res_f1        f2\n",
       "0   1  0 -0.405465       0.4    -0.4 -0.467965  0.385098 -0.385098 -0.525017\n",
       "1   2  0 -0.405465       0.4    -0.4 -0.467965  0.385098 -0.385098 -0.525017\n",
       "2   3  0 -0.405465       0.4    -0.4 -0.467965  0.385098 -0.385098 -0.525017\n",
       "3   4  1 -0.405465       0.4     0.6 -0.467965  0.385098  0.614902 -0.525017\n",
       "4   5  1 -0.405465       0.4     0.6 -0.467965  0.385098  0.614902 -0.525017\n",
       "5   6  0 -0.405465       0.4    -0.4 -0.467965  0.385098 -0.385098 -0.525017\n",
       "6   7  0 -0.405465       0.4    -0.4 -0.467965  0.385098 -0.385098 -0.525017\n",
       "7   8  0 -0.405465       0.4    -0.4 -0.467965  0.385098 -0.385098 -0.525017\n",
       "8   9  1 -0.405465       0.4     0.6 -0.155465  0.461212  0.538788  0.061355\n",
       "9  10  1 -0.405465       0.4     0.6 -0.155465  0.461212  0.538788  0.061355"
      ]
     },
     "execution_count": 105,
     "metadata": {},
     "output_type": "execute_result"
    }
   ],
   "source": [
    "tree"
   ]
  },
  {
   "cell_type": "code",
   "execution_count": 106,
   "metadata": {},
   "outputs": [],
   "source": [
    "tree = calc_res(tree, \"f2\")"
   ]
  },
  {
   "cell_type": "code",
   "execution_count": 107,
   "metadata": {},
   "outputs": [
    {
     "data": {
      "text/html": [
       "<div>\n",
       "<style scoped>\n",
       "    .dataframe tbody tr th:only-of-type {\n",
       "        vertical-align: middle;\n",
       "    }\n",
       "\n",
       "    .dataframe tbody tr th {\n",
       "        vertical-align: top;\n",
       "    }\n",
       "\n",
       "    .dataframe thead th {\n",
       "        text-align: right;\n",
       "    }\n",
       "</style>\n",
       "<table border=\"1\" class=\"dataframe\">\n",
       "  <thead>\n",
       "    <tr style=\"text-align: right;\">\n",
       "      <th></th>\n",
       "      <th>x</th>\n",
       "      <th>y</th>\n",
       "      <th>f0</th>\n",
       "      <th>f0_proba</th>\n",
       "      <th>res_f0</th>\n",
       "      <th>f1</th>\n",
       "      <th>f1_proba</th>\n",
       "      <th>res_f1</th>\n",
       "      <th>f2</th>\n",
       "      <th>f2_proba</th>\n",
       "      <th>res_f2</th>\n",
       "    </tr>\n",
       "  </thead>\n",
       "  <tbody>\n",
       "    <tr>\n",
       "      <td>0</td>\n",
       "      <td>1</td>\n",
       "      <td>0</td>\n",
       "      <td>-0.405465</td>\n",
       "      <td>0.4</td>\n",
       "      <td>-0.4</td>\n",
       "      <td>-0.467965</td>\n",
       "      <td>0.385098</td>\n",
       "      <td>-0.385098</td>\n",
       "      <td>-0.525017</td>\n",
       "      <td>0.371680</td>\n",
       "      <td>-0.371680</td>\n",
       "    </tr>\n",
       "    <tr>\n",
       "      <td>1</td>\n",
       "      <td>2</td>\n",
       "      <td>0</td>\n",
       "      <td>-0.405465</td>\n",
       "      <td>0.4</td>\n",
       "      <td>-0.4</td>\n",
       "      <td>-0.467965</td>\n",
       "      <td>0.385098</td>\n",
       "      <td>-0.385098</td>\n",
       "      <td>-0.525017</td>\n",
       "      <td>0.371680</td>\n",
       "      <td>-0.371680</td>\n",
       "    </tr>\n",
       "    <tr>\n",
       "      <td>2</td>\n",
       "      <td>3</td>\n",
       "      <td>0</td>\n",
       "      <td>-0.405465</td>\n",
       "      <td>0.4</td>\n",
       "      <td>-0.4</td>\n",
       "      <td>-0.467965</td>\n",
       "      <td>0.385098</td>\n",
       "      <td>-0.385098</td>\n",
       "      <td>-0.525017</td>\n",
       "      <td>0.371680</td>\n",
       "      <td>-0.371680</td>\n",
       "    </tr>\n",
       "    <tr>\n",
       "      <td>3</td>\n",
       "      <td>4</td>\n",
       "      <td>1</td>\n",
       "      <td>-0.405465</td>\n",
       "      <td>0.4</td>\n",
       "      <td>0.6</td>\n",
       "      <td>-0.467965</td>\n",
       "      <td>0.385098</td>\n",
       "      <td>0.614902</td>\n",
       "      <td>-0.525017</td>\n",
       "      <td>0.371680</td>\n",
       "      <td>0.628320</td>\n",
       "    </tr>\n",
       "    <tr>\n",
       "      <td>4</td>\n",
       "      <td>5</td>\n",
       "      <td>1</td>\n",
       "      <td>-0.405465</td>\n",
       "      <td>0.4</td>\n",
       "      <td>0.6</td>\n",
       "      <td>-0.467965</td>\n",
       "      <td>0.385098</td>\n",
       "      <td>0.614902</td>\n",
       "      <td>-0.525017</td>\n",
       "      <td>0.371680</td>\n",
       "      <td>0.628320</td>\n",
       "    </tr>\n",
       "    <tr>\n",
       "      <td>5</td>\n",
       "      <td>6</td>\n",
       "      <td>0</td>\n",
       "      <td>-0.405465</td>\n",
       "      <td>0.4</td>\n",
       "      <td>-0.4</td>\n",
       "      <td>-0.467965</td>\n",
       "      <td>0.385098</td>\n",
       "      <td>-0.385098</td>\n",
       "      <td>-0.525017</td>\n",
       "      <td>0.371680</td>\n",
       "      <td>-0.371680</td>\n",
       "    </tr>\n",
       "    <tr>\n",
       "      <td>6</td>\n",
       "      <td>7</td>\n",
       "      <td>0</td>\n",
       "      <td>-0.405465</td>\n",
       "      <td>0.4</td>\n",
       "      <td>-0.4</td>\n",
       "      <td>-0.467965</td>\n",
       "      <td>0.385098</td>\n",
       "      <td>-0.385098</td>\n",
       "      <td>-0.525017</td>\n",
       "      <td>0.371680</td>\n",
       "      <td>-0.371680</td>\n",
       "    </tr>\n",
       "    <tr>\n",
       "      <td>7</td>\n",
       "      <td>8</td>\n",
       "      <td>0</td>\n",
       "      <td>-0.405465</td>\n",
       "      <td>0.4</td>\n",
       "      <td>-0.4</td>\n",
       "      <td>-0.467965</td>\n",
       "      <td>0.385098</td>\n",
       "      <td>-0.385098</td>\n",
       "      <td>-0.525017</td>\n",
       "      <td>0.371680</td>\n",
       "      <td>-0.371680</td>\n",
       "    </tr>\n",
       "    <tr>\n",
       "      <td>8</td>\n",
       "      <td>9</td>\n",
       "      <td>1</td>\n",
       "      <td>-0.405465</td>\n",
       "      <td>0.4</td>\n",
       "      <td>0.6</td>\n",
       "      <td>-0.155465</td>\n",
       "      <td>0.461212</td>\n",
       "      <td>0.538788</td>\n",
       "      <td>0.061355</td>\n",
       "      <td>0.515334</td>\n",
       "      <td>0.484666</td>\n",
       "    </tr>\n",
       "    <tr>\n",
       "      <td>9</td>\n",
       "      <td>10</td>\n",
       "      <td>1</td>\n",
       "      <td>-0.405465</td>\n",
       "      <td>0.4</td>\n",
       "      <td>0.6</td>\n",
       "      <td>-0.155465</td>\n",
       "      <td>0.461212</td>\n",
       "      <td>0.538788</td>\n",
       "      <td>0.061355</td>\n",
       "      <td>0.515334</td>\n",
       "      <td>0.484666</td>\n",
       "    </tr>\n",
       "  </tbody>\n",
       "</table>\n",
       "</div>"
      ],
      "text/plain": [
       "    x  y        f0  f0_proba  res_f0        f1  f1_proba    res_f1        f2  \\\n",
       "0   1  0 -0.405465       0.4    -0.4 -0.467965  0.385098 -0.385098 -0.525017   \n",
       "1   2  0 -0.405465       0.4    -0.4 -0.467965  0.385098 -0.385098 -0.525017   \n",
       "2   3  0 -0.405465       0.4    -0.4 -0.467965  0.385098 -0.385098 -0.525017   \n",
       "3   4  1 -0.405465       0.4     0.6 -0.467965  0.385098  0.614902 -0.525017   \n",
       "4   5  1 -0.405465       0.4     0.6 -0.467965  0.385098  0.614902 -0.525017   \n",
       "5   6  0 -0.405465       0.4    -0.4 -0.467965  0.385098 -0.385098 -0.525017   \n",
       "6   7  0 -0.405465       0.4    -0.4 -0.467965  0.385098 -0.385098 -0.525017   \n",
       "7   8  0 -0.405465       0.4    -0.4 -0.467965  0.385098 -0.385098 -0.525017   \n",
       "8   9  1 -0.405465       0.4     0.6 -0.155465  0.461212  0.538788  0.061355   \n",
       "9  10  1 -0.405465       0.4     0.6 -0.155465  0.461212  0.538788  0.061355   \n",
       "\n",
       "   f2_proba    res_f2  \n",
       "0  0.371680 -0.371680  \n",
       "1  0.371680 -0.371680  \n",
       "2  0.371680 -0.371680  \n",
       "3  0.371680  0.628320  \n",
       "4  0.371680  0.628320  \n",
       "5  0.371680 -0.371680  \n",
       "6  0.371680 -0.371680  \n",
       "7  0.371680 -0.371680  \n",
       "8  0.515334  0.484666  \n",
       "9  0.515334  0.484666  "
      ]
     },
     "execution_count": 107,
     "metadata": {},
     "output_type": "execute_result"
    }
   ],
   "source": [
    "tree"
   ]
  },
  {
   "cell_type": "code",
   "execution_count": null,
   "metadata": {},
   "outputs": [],
   "source": []
  },
  {
   "cell_type": "markdown",
   "metadata": {},
   "source": [
    "### GBDT in sklearn"
   ]
  },
  {
   "cell_type": "code",
   "execution_count": 108,
   "metadata": {},
   "outputs": [],
   "source": [
    "from sklearn.ensemble import gradient_boosting\n",
    "from sklearn.tree import plot_tree"
   ]
  },
  {
   "cell_type": "markdown",
   "metadata": {},
   "source": [
    "#### 2 trees, depth = 1"
   ]
  },
  {
   "cell_type": "code",
   "execution_count": 109,
   "metadata": {},
   "outputs": [],
   "source": [
    "clf_1 = gradient_boosting.GradientBoostingClassifier(n_estimators=2, max_depth=1)"
   ]
  },
  {
   "cell_type": "code",
   "execution_count": 111,
   "metadata": {},
   "outputs": [
    {
     "data": {
      "text/plain": [
       "GradientBoostingClassifier(criterion='friedman_mse', init=None,\n",
       "                           learning_rate=0.1, loss='deviance', max_depth=1,\n",
       "                           max_features=None, max_leaf_nodes=None,\n",
       "                           min_impurity_decrease=0.0, min_impurity_split=None,\n",
       "                           min_samples_leaf=1, min_samples_split=2,\n",
       "                           min_weight_fraction_leaf=0.0, n_estimators=2,\n",
       "                           n_iter_no_change=None, presort='auto',\n",
       "                           random_state=None, subsample=1.0, tol=0.0001,\n",
       "                           validation_fraction=0.1, verbose=0,\n",
       "                           warm_start=False)"
      ]
     },
     "execution_count": 111,
     "metadata": {},
     "output_type": "execute_result"
    }
   ],
   "source": [
    "clf_1.fit(df[[\"x\"]], df[\"y\"])"
   ]
  },
  {
   "cell_type": "code",
   "execution_count": 115,
   "metadata": {},
   "outputs": [
    {
     "data": {
      "text/plain": [
       "array([0.37167979, 0.37167979, 0.37167979, 0.37167979, 0.37167979,\n",
       "       0.37167979, 0.37167979, 0.37167979, 0.51533394, 0.51533394])"
      ]
     },
     "execution_count": 115,
     "metadata": {},
     "output_type": "execute_result"
    }
   ],
   "source": [
    "clf_1.predict_proba(df[[\"x\"]])[:, 1]"
   ]
  },
  {
   "cell_type": "code",
   "execution_count": 124,
   "metadata": {},
   "outputs": [
    {
     "data": {
      "text/plain": [
       "[Text(167.4, 163.07999999999998, 'X[0] <= 8.5\\nfriedman_mse = 0.24\\nsamples = 10\\nvalue = -0.0'),\n",
       " Text(83.7, 54.360000000000014, 'friedman_mse = 0.188\\nsamples = 8\\nvalue = -0.625'),\n",
       " Text(251.10000000000002, 54.360000000000014, 'friedman_mse = -0.0\\nsamples = 2\\nvalue = 2.5')]"
      ]
     },
     "execution_count": 124,
     "metadata": {},
     "output_type": "execute_result"
    },
    {
     "data": {
      "image/png": "[encoded data removed]",
      "text/plain": [
       "<Figure size 432x288 with 1 Axes>"
      ]
     },
     "metadata": {
      "needs_background": "light"
     },
     "output_type": "display_data"
    }
   ],
   "source": [
    "plot_tree(clf_1.estimators_[0][0])"
   ]
  },
  {
   "cell_type": "code",
   "execution_count": 125,
   "metadata": {},
   "outputs": [
    {
     "data": {
      "text/plain": [
       "[Text(167.4, 163.07999999999998, 'X[0] <= 8.5\\nfriedman_mse = 0.223\\nsamples = 10\\nvalue = -0.0'),\n",
       " Text(83.7, 54.360000000000014, 'friedman_mse = 0.187\\nsamples = 8\\nvalue = -0.571'),\n",
       " Text(251.10000000000002, 54.360000000000014, 'friedman_mse = 0.0\\nsamples = 2\\nvalue = 2.168')]"
      ]
     },
     "execution_count": 125,
     "metadata": {},
     "output_type": "execute_result"
    },
    {
     "data": {
      "image/png": "[encoded data removed]",
      "text/plain": [
       "<Figure size 432x288 with 1 Axes>"
      ]
     },
     "metadata": {
      "needs_background": "light"
     },
     "output_type": "display_data"
    }
   ],
   "source": [
    "plot_tree(clf_1.estimators_[1][0])"
   ]
  },
  {
   "cell_type": "code",
   "execution_count": null,
   "metadata": {},
   "outputs": [],
   "source": []
  },
  {
   "cell_type": "code",
   "execution_count": 128,
   "metadata": {},
   "outputs": [],
   "source": [
    "clf_2 = gradient_boosting.GradientBoostingClassifier(n_estimators=1, max_depth=2)"
   ]
  },
  {
   "cell_type": "code",
   "execution_count": 130,
   "metadata": {},
   "outputs": [
    {
     "data": {
      "text/plain": [
       "GradientBoostingClassifier(criterion='friedman_mse', init=None,\n",
       "                           learning_rate=0.1, loss='deviance', max_depth=2,\n",
       "                           max_features=None, max_leaf_nodes=None,\n",
       "                           min_impurity_decrease=0.0, min_impurity_split=None,\n",
       "                           min_samples_leaf=1, min_samples_split=2,\n",
       "                           min_weight_fraction_leaf=0.0, n_estimators=1,\n",
       "                           n_iter_no_change=None, presort='auto',\n",
       "                           random_state=None, subsample=1.0, tol=0.0001,\n",
       "                           validation_fraction=0.1, verbose=0,\n",
       "                           warm_start=False)"
      ]
     },
     "execution_count": 130,
     "metadata": {},
     "output_type": "execute_result"
    }
   ],
   "source": [
    "clf_2.fit(df[[\"x\"]], df[\"y\"])"
   ]
  },
  {
   "cell_type": "code",
   "execution_count": 131,
   "metadata": {},
   "outputs": [
    {
     "data": {
      "text/plain": [
       "array([0.36074507, 0.36074507, 0.36074507, 0.4       , 0.4       ,\n",
       "       0.4       , 0.4       , 0.4       , 0.46121182, 0.46121182])"
      ]
     },
     "execution_count": 131,
     "metadata": {},
     "output_type": "execute_result"
    }
   ],
   "source": [
    "clf_2.predict_proba(df[[\"x\"]])[:, 1]"
   ]
  },
  {
   "cell_type": "code",
   "execution_count": 132,
   "metadata": {},
   "outputs": [
    {
     "data": {
      "text/plain": [
       "[Text(200.88000000000002, 181.2, 'X[0] <= 8.5\\nfriedman_mse = 0.24\\nsamples = 10\\nvalue = -0.0'),\n",
       " Text(133.92000000000002, 108.72, 'X[0] <= 3.5\\nfriedman_mse = 0.188\\nsamples = 8\\nvalue = -0.15'),\n",
       " Text(66.96000000000001, 36.23999999999998, 'friedman_mse = -0.0\\nsamples = 3\\nvalue = -1.667'),\n",
       " Text(200.88000000000002, 36.23999999999998, 'friedman_mse = 0.24\\nsamples = 5\\nvalue = -0.0'),\n",
       " Text(267.84000000000003, 108.72, 'friedman_mse = -0.0\\nsamples = 2\\nvalue = 2.5')]"
      ]
     },
     "execution_count": 132,
     "metadata": {},
     "output_type": "execute_result"
    },
    {
     "data": {
      "image/png": "[encoded data removed]",
      "text/plain": [
       "<Figure size 432x288 with 1 Axes>"
      ]
     },
     "metadata": {
      "needs_background": "light"
     },
     "output_type": "display_data"
    }
   ],
   "source": [
    "plot_tree(clf_2.estimators_[0][0])"
   ]
  },
  {
   "cell_type": "code",
   "execution_count": null,
   "metadata": {},
   "outputs": [],
   "source": []
  },
  {
   "cell_type": "code",
   "execution_count": 135,
   "metadata": {},
   "outputs": [],
   "source": [
    "clf_3 = gradient_boosting.GradientBoostingClassifier(n_estimators=5, max_depth=1)"
   ]
  },
  {
   "cell_type": "code",
   "execution_count": 136,
   "metadata": {},
   "outputs": [
    {
     "data": {
      "text/plain": [
       "GradientBoostingClassifier(criterion='friedman_mse', init=None,\n",
       "                           learning_rate=0.1, loss='deviance', max_depth=1,\n",
       "                           max_features=None, max_leaf_nodes=None,\n",
       "                           min_impurity_decrease=0.0, min_impurity_split=None,\n",
       "                           min_samples_leaf=1, min_samples_split=2,\n",
       "                           min_weight_fraction_leaf=0.0, n_estimators=5,\n",
       "                           n_iter_no_change=None, presort='auto',\n",
       "                           random_state=None, subsample=1.0, tol=0.0001,\n",
       "                           validation_fraction=0.1, verbose=0,\n",
       "                           warm_start=False)"
      ]
     },
     "execution_count": 136,
     "metadata": {},
     "output_type": "execute_result"
    }
   ],
   "source": [
    "clf_3.fit(df[[\"x\"]], df[\"y\"])"
   ]
  },
  {
   "cell_type": "code",
   "execution_count": 137,
   "metadata": {},
   "outputs": [
    {
     "data": {
      "text/plain": [
       "array([0.29256819, 0.29256819, 0.29256819, 0.38912579, 0.38912579,\n",
       "       0.38912579, 0.38912579, 0.38912579, 0.59247127, 0.59247127])"
      ]
     },
     "execution_count": 137,
     "metadata": {},
     "output_type": "execute_result"
    }
   ],
   "source": [
    "clf_3.predict_proba(df[[\"x\"]])[:, 1]"
   ]
  },
  {
   "cell_type": "code",
   "execution_count": 141,
   "metadata": {},
   "outputs": [
    {
     "data": {
      "text/plain": [
       "[Text(167.4, 163.07999999999998, 'X[0] <= 8.5\\nfriedman_mse = 0.24\\nsamples = 10\\nvalue = -0.0'),\n",
       " Text(83.7, 54.360000000000014, 'friedman_mse = 0.188\\nsamples = 8\\nvalue = -0.625'),\n",
       " Text(251.10000000000002, 54.360000000000014, 'friedman_mse = -0.0\\nsamples = 2\\nvalue = 2.5')]"
      ]
     },
     "execution_count": 141,
     "metadata": {},
     "output_type": "execute_result"
    },
    {
     "data": {
      "image/png": "[encoded data removed]",
      "text/plain": [
       "<Figure size 432x288 with 1 Axes>"
      ]
     },
     "metadata": {
      "needs_background": "light"
     },
     "output_type": "display_data"
    }
   ],
   "source": [
    "plot_tree(clf_3.estimators_[0][0])"
   ]
  },
  {
   "cell_type": "code",
   "execution_count": 142,
   "metadata": {},
   "outputs": [
    {
     "data": {
      "text/plain": [
       "[Text(167.4, 163.07999999999998, 'X[0] <= 8.5\\nfriedman_mse = 0.223\\nsamples = 10\\nvalue = -0.0'),\n",
       " Text(83.7, 54.360000000000014, 'friedman_mse = 0.187\\nsamples = 8\\nvalue = -0.571'),\n",
       " Text(251.10000000000002, 54.360000000000014, 'friedman_mse = 0.0\\nsamples = 2\\nvalue = 2.168')]"
      ]
     },
     "execution_count": 142,
     "metadata": {},
     "output_type": "execute_result"
    },
    {
     "data": {
      "image/png": "[encoded data removed]",
      "text/plain": [
       "<Figure size 432x288 with 1 Axes>"
      ]
     },
     "metadata": {
      "needs_background": "light"
     },
     "output_type": "display_data"
    }
   ],
   "source": [
    "plot_tree(clf_3.estimators_[1][0])"
   ]
  },
  {
   "cell_type": "code",
   "execution_count": 164,
   "metadata": {},
   "outputs": [
    {
     "data": {
      "text/plain": [
       "[Text(167.4, 163.07999999999998, 'X[0] <= 3.5\\nfriedman_mse = 0.209\\nsamples = 10\\nvalue = -0.0'),\n",
       " Text(83.7, 54.360000000000014, 'friedman_mse = 0.0\\nsamples = 3\\nvalue = -1.592'),\n",
       " Text(251.10000000000002, 54.360000000000014, 'friedman_mse = 0.214\\nsamples = 7\\nvalue = 0.666')]"
      ]
     },
     "execution_count": 164,
     "metadata": {},
     "output_type": "execute_result"
    },
    {
     "data": {
      "image/png": "[encoded data removed]",
      "text/plain": [
       "<Figure size 432x288 with 1 Axes>"
      ]
     },
     "metadata": {
      "needs_background": "light"
     },
     "output_type": "display_data"
    }
   ],
   "source": [
    "plot_tree(clf_3.estimators_[2][0])"
   ]
  },
  {
   "cell_type": "code",
   "execution_count": 143,
   "metadata": {},
   "outputs": [
    {
     "data": {
      "text/plain": [
       "[Text(167.4, 163.07999999999998, 'X[0] <= 8.5\\nfriedman_mse = 0.198\\nsamples = 10\\nvalue = -0.001'),\n",
       " Text(83.7, 54.360000000000014, 'friedman_mse = 0.178\\nsamples = 8\\nvalue = -0.508'),\n",
       " Text(251.10000000000002, 54.360000000000014, 'friedman_mse = 0.0\\nsamples = 2\\nvalue = 1.88')]"
      ]
     },
     "execution_count": 143,
     "metadata": {},
     "output_type": "execute_result"
    },
    {
     "data": {
      "image/png": "[encoded data removed]",
      "text/plain": [
       "<Figure size 432x288 with 1 Axes>"
      ]
     },
     "metadata": {
      "needs_background": "light"
     },
     "output_type": "display_data"
    }
   ],
   "source": [
    "plot_tree(clf_3.estimators_[3][0])"
   ]
  },
  {
   "cell_type": "code",
   "execution_count": 144,
   "metadata": {},
   "outputs": [
    {
     "data": {
      "text/plain": [
       "[Text(167.4, 163.07999999999998, 'X[0] <= 3.5\\nfriedman_mse = 0.187\\nsamples = 10\\nvalue = -0.001'),\n",
       " Text(83.7, 54.360000000000014, 'friedman_mse = 0.0\\nsamples = 3\\nvalue = -1.48'),\n",
       " Text(251.10000000000002, 54.360000000000014, 'friedman_mse = 0.204\\nsamples = 7\\nvalue = 0.582')]"
      ]
     },
     "execution_count": 144,
     "metadata": {},
     "output_type": "execute_result"
    },
    {
     "data": {
      "image/png": "[encoded data removed]",
      "text/plain": [
       "<Figure size 432x288 with 1 Axes>"
      ]
     },
     "metadata": {
      "needs_background": "light"
     },
     "output_type": "display_data"
    }
   ],
   "source": [
    "plot_tree(clf_3.estimators_[4][0])"
   ]
  },
  {
   "cell_type": "code",
   "execution_count": null,
   "metadata": {},
   "outputs": [],
   "source": []
  },
  {
   "cell_type": "code",
   "execution_count": 192,
   "metadata": {},
   "outputs": [],
   "source": [
    "df2 = pd.DataFrame({\"x\":[1, 2, 3, 4, 5, 6, 7, 8, 9, 10], \n",
    "                    \"y\":[5.56, 5.7, 5.91, 6.4, 6.8, 7.05, 8.9, 8.7, 9, 9.05]})"
   ]
  },
  {
   "cell_type": "code",
   "execution_count": null,
   "metadata": {},
   "outputs": [],
   "source": []
  }
 ],
 "metadata": {
  "kernelspec": {
   "display_name": "Python 3",
   "language": "python",
   "name": "python3"
  },
  "language_info": {
   "codemirror_mode": {
    "name": "ipython",
    "version": 3
   },
   "file_extension": ".py",
   "mimetype": "text/x-python",
   "name": "python",
   "nbconvert_exporter": "python",
   "pygments_lexer": "ipython3",
   "version": "3.7.4"
  }
 },
 "nbformat": 4,
 "nbformat_minor": 2
}
